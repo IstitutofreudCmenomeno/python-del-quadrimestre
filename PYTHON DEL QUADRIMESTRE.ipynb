{
 "cells": [
  {
   "cell_type": "markdown",
   "id": "5fbd8681",
   "metadata": {},
   "source": [
    "# Addizioni"
   ]
  },
  {
   "cell_type": "code",
   "execution_count": 36,
   "id": "e9c116df",
   "metadata": {},
   "outputs": [
    {
     "name": "stdout",
     "output_type": "stream",
     "text": [
      "inserisci il primo numero:5\n",
      "inserisci il secondo numero:5\n",
      "L'Addizione è: 10\n"
     ]
    }
   ],
   "source": [
    "numero1= int(input(\"inserisci il primo numero:\"))\n",
    "numero2= int(input(\"inserisci il secondo numero:\"))\n",
    "Addizione = numero1 + numero2\n",
    "print(\"L'Addizione è:\", Addizione)"
   ]
  },
  {
   "cell_type": "markdown",
   "id": "6e90fb5d",
   "metadata": {},
   "source": [
    "# Sottrazioni"
   ]
  },
  {
   "cell_type": "code",
   "execution_count": 3,
   "id": "3f21e069",
   "metadata": {},
   "outputs": [
    {
     "name": "stdout",
     "output_type": "stream",
     "text": [
      "inserisci il primo numero:6\n",
      "inserisci il secondo numero:5\n",
      "La sottrazione è: 1\n"
     ]
    }
   ],
   "source": [
    "#Sottrazioni\n",
    "numero1= int(input(\"inserisci il primo numero:\"))\n",
    "numero2= int(input(\"inserisci il secondo numero:\"))\n",
    "Sottrazione = numero1 - numero2\n",
    "print(\"La Sottrazione è:\", Sottrazione)"
   ]
  },
  {
   "cell_type": "markdown",
   "id": "4ad9b5dc",
   "metadata": {},
   "source": [
    "# Divisoni"
   ]
  },
  {
   "cell_type": "code",
   "execution_count": 4,
   "id": "542e6af2",
   "metadata": {},
   "outputs": [
    {
     "name": "stdout",
     "output_type": "stream",
     "text": [
      "inserisci il primo numero:6\n",
      "inserisci il secondo numero:3\n",
      "La divisione è: 2.0\n"
     ]
    }
   ],
   "source": [
    "#Divisoni\n",
    "numero1= int(input(\"inserisci il primo numero:\"))\n",
    "numero2= int(input(\"inserisci il secondo numero:\"))\n",
    "Divisione = numero1 / numero2\n",
    "print(\"La Divisione è:\", Divisione)"
   ]
  },
  {
   "cell_type": "markdown",
   "id": "d64ec94f",
   "metadata": {},
   "source": [
    "# Moltiplicazioni"
   ]
  },
  {
   "cell_type": "code",
   "execution_count": 22,
   "id": "f4f5f05b",
   "metadata": {},
   "outputs": [
    {
     "name": "stdout",
     "output_type": "stream",
     "text": [
      "inserisci il primo numero:3\n",
      "inserisci il secondo numero:3\n",
      "La Moltiplicazione è: 9\n"
     ]
    }
   ],
   "source": [
    "#Moltiplicazioni\n",
    "numero1= int(input(\"inserisci il primo numero:\"))\n",
    "numero2= int(input(\"inserisci il secondo numero:\"))\n",
    "Moltiplicazione = numero1 * numero2\n",
    "print(\"La Moltiplicazione è:\", Moltiplicazione)"
   ]
  },
  {
   "cell_type": "markdown",
   "id": "5a65b132",
   "metadata": {},
   "source": [
    "# Fattoriale"
   ]
  },
  {
   "cell_type": "code",
   "execution_count": 6,
   "id": "42fcf5af",
   "metadata": {},
   "outputs": [
    {
     "name": "stdout",
     "output_type": "stream",
     "text": [
      "inserisci un numero intero positivo: 4\n",
      "il Fattoriale di 4 è: 24\n"
     ]
    }
   ],
   "source": [
    "#Fattoriale\n",
    "n = int(input(\"inserisci un numero intero positivo: \"))\n",
    "Fattoriale = 1\n",
    "\n",
    "for numero in range(1, n + 1):\n",
    "\n",
    "    Fattoriale *=numero\n",
    "print(\"il Fattoriale di\", n, \"è:\", Fattoriale)"
   ]
  },
  {
   "cell_type": "markdown",
   "id": "99331613",
   "metadata": {},
   "source": [
    "# Media dei numeri"
   ]
  },
  {
   "cell_type": "code",
   "execution_count": 7,
   "id": "f3f8aad0",
   "metadata": {},
   "outputs": [
    {
     "name": "stdout",
     "output_type": "stream",
     "text": [
      "Quanti numeri vuoi inserire?3\n",
      "inserisci un numero:2\n",
      "inserisci un numero:6\n",
      "inserisci un numero:8\n",
      "La media dei numeri inseriti è: 5.333333333333333 la lista completa è: [2.0, 6.0, 8.0]\n"
     ]
    }
   ],
   "source": [
    "#Media dei numeri\n",
    "numeri = []\n",
    "\n",
    "n = int(input(\"Quanti numeri vuoi inserire?\"))\n",
    "\n",
    "for i in range (n):\n",
    "    numero = float(input(\"inserisci un numero:\"))\n",
    "    numeri.append(numero)\n",
    "\n",
    "media = sum(numeri) / len(numeri)\n",
    "\n",
    "print(\"La media dei numeri inseriti è:\", media, \"la lista completa è:\", numeri)"
   ]
  },
  {
   "cell_type": "markdown",
   "id": "8f785a08",
   "metadata": {},
   "source": [
    "# Gioco dell'indovinello"
   ]
  },
  {
   "cell_type": "code",
   "execution_count": 8,
   "id": "abcc621a",
   "metadata": {},
   "outputs": [
    {
     "name": "stdout",
     "output_type": "stream",
     "text": [
      "Indovina il numero (1-100): 50\n",
      "Il numero da indovinare è più grande\n",
      "Indovina il numero (1-100): 70\n",
      "Il numero da indovinare è più grande\n",
      "Indovina il numero (1-100): 90\n",
      "il numero è più piccolo.\n",
      "Indovina il numero (1-100): 80\n",
      "il numero è più piccolo.\n",
      "Indovina il numero (1-100): 75\n",
      "Il numero da indovinare è più grande\n",
      "Indovina il numero (1-100): 77\n",
      "Bravo! Hai indovinato il numero 77 in 6 tentativi.\n"
     ]
    }
   ],
   "source": [
    "#Gioco dell'indovinello\n",
    "import random\n",
    "\n",
    "numero_da_indovinare = random.randint(1, 100)\n",
    "tentativi = 0 \n",
    "\n",
    "while True:\n",
    "    tentativo = int(input(\"Indovina il numero (1-100): \"))\n",
    "    tentativi += 1\n",
    "\n",
    "    if tentativo == numero_da_indovinare:\n",
    "        print(\"Bravo! Hai indovinato il numero\", numero_da_indovinare, \"in\", tentativi, \"tentativi.\")\n",
    "        break\n",
    "    elif tentativo < numero_da_indovinare:\n",
    "        print (\"Il numero da indovinare è più grande\")\n",
    "    else:\n",
    "        print(\"il numero è più piccolo.\")"
   ]
  },
  {
   "cell_type": "markdown",
   "id": "7d835237",
   "metadata": {},
   "source": [
    "# Gioco della morra cinese"
   ]
  },
  {
   "cell_type": "code",
   "execution_count": 9,
   "id": "06f28790",
   "metadata": {},
   "outputs": [
    {
     "name": "stdout",
     "output_type": "stream",
     "text": [
      "Benvenuti al Gioco della morra cinese!\n",
      "Segli la tua mossa (carta, forbici, sasso):carta\n",
      "Il computer ha scelto: forbici\n",
      "Hai perso!\n"
     ]
    }
   ],
   "source": [
    "#Gioco della morra cinese\n",
    "import random\n",
    "\n",
    "mosse = [\"carta\",\"forbici\",\"sasso\"]\n",
    "\n",
    "computer_mossa = random.choice(mosse)\n",
    "\n",
    "print(\"Benvenuti al Gioco della morra cinese!\")\n",
    "scelta_giocatore = input(\"Segli la tua mossa (carta, forbici, sasso):\")\n",
    "\n",
    "if scelta_giocatore not in mosse:\n",
    "    print(\"mossa non permessa\")\n",
    "else:\n",
    "    print(\"Il computer ha scelto:\", computer_mossa)\n",
    "    if scelta_giocatore == computer_mossa:\n",
    "        print(\"Pareggio!\")\n",
    "    elif (scelta_giocatore == \"carta\" and computer_mossa == \"sasso\") or\\\n",
    "            (scelta_giocatore == \"forbici\" and computer_mossa == \"carta\") or\\\n",
    "                (scelta_giocatore == \"sasso\" and computer_mossa == \"forbici\"):\n",
    "          print(\"Hai vinto!\")\n",
    "    else:\n",
    "          print(\"Hai perso!\")"
   ]
  },
  {
   "cell_type": "markdown",
   "id": "36332419",
   "metadata": {},
   "source": [
    "# Fattoriale.2"
   ]
  },
  {
   "cell_type": "code",
   "execution_count": 10,
   "id": "e69bff50",
   "metadata": {},
   "outputs": [
    {
     "name": "stdout",
     "output_type": "stream",
     "text": [
      "Inserisci un numero intero:4\n",
      "il fattoriale di 4 è 24\n"
     ]
    }
   ],
   "source": [
    "#Fattoriale.2\n",
    "numero=int(input(\"Inserisci un numero intero:\"))\n",
    "\n",
    "fattoriale=1\n",
    "\n",
    "if fattoriale<0:\n",
    "    print(\"numero negativo\")\n",
    "elif fattoriale==0:\n",
    "    print(\"il fattoriale di zero è 1\")\n",
    "else:\n",
    "    for numero in range(1, numero+1):\n",
    "        fattoriale*=numero\n",
    "print(f\"il fattoriale di {numero} è {fattoriale}\")"
   ]
  },
  {
   "cell_type": "markdown",
   "id": "1cfe24bb",
   "metadata": {},
   "source": [
    "# Media dei numeri.2"
   ]
  },
  {
   "cell_type": "code",
   "execution_count": 11,
   "id": "f0a267e4",
   "metadata": {},
   "outputs": [
    {
     "name": "stdout",
     "output_type": "stream",
     "text": [
      "quanti numero vuoi inserire?3\n",
      "inserisci un numero:5\n",
      "inserisci un numero:10\n",
      "inserisci un numero:15\n",
      "La media del numeri inseriti è 10.0 La lista completa dei numeri è [5.0, 10.0, 15.0]\n"
     ]
    }
   ],
   "source": [
    "#Media dei numeri.2\n",
    "numeri= []\n",
    "n= int(input(\"quanti numerI vuoi inserire?\"))\n",
    "for i in range (n):\n",
    "  numero = float(input(\"inserisci un numero:\"))\n",
    "  numeri.append(numero)\n",
    "media = sum(numeri)/len(numeri)\n",
    "print(\"La media del numeri inseriti è\", media, \"La lista completa dei numeri è\", numeri)"
   ]
  },
  {
   "cell_type": "markdown",
   "id": "0ac2e2a4",
   "metadata": {},
   "source": [
    "# Somma di tutte le cifre di un numero"
   ]
  },
  {
   "cell_type": "code",
   "execution_count": 21,
   "id": "d829db61",
   "metadata": {},
   "outputs": [
    {
     "name": "stdout",
     "output_type": "stream",
     "text": [
      "inserisci un numero intero positivo di N:6\n",
      "la somma dei primi 6 numeri è pari è 21\n"
     ]
    }
   ],
   "source": [
    "#Somma di tutte le cifre di un numero\n",
    "N = int(input(\"inserisci un numero intero positivo di N:\"))\n",
    "\n",
    "somma = 0\n",
    "\n",
    "for numero in range (3, 2 * N + 1, 4):\n",
    "    somma += numero\n",
    "print (f\"la somma dei primi {N} numeri è pari è {somma}\")"
   ]
  },
  {
   "cell_type": "markdown",
   "id": "f3cf03a5",
   "metadata": {},
   "source": [
    "# Comando append"
   ]
  },
  {
   "cell_type": "code",
   "execution_count": 20,
   "id": "19d6dfa2",
   "metadata": {},
   "outputs": [
    {
     "name": "stdout",
     "output_type": "stream",
     "text": [
      "inserisci un numero intero positivo N:5\n",
      "[2, 4, 6, 8, 10]\n"
     ]
    }
   ],
   "source": [
    "#Comando append\n",
    "N = int(input(\"inserisci un numero intero positivo N:\"))\n",
    "lista = []\n",
    "\n",
    "for numero in range(2,2 * N + 1,2):\n",
    "    lista.append(numero)\n",
    "\n",
    "print (lista)"
   ]
  },
  {
   "cell_type": "markdown",
   "id": "5b229765",
   "metadata": {},
   "source": [
    "# Quadrato di un numero"
   ]
  },
  {
   "cell_type": "code",
   "execution_count": 50,
   "id": "45310e3a",
   "metadata": {},
   "outputs": [
    {
     "name": "stdout",
     "output_type": "stream",
     "text": [
      "inserisci un numero intero positivo:5\n",
      "Quadrati dei primi 5 numeri\n",
      "il quadrato di 5 è 25\n"
     ]
    }
   ],
   "source": [
    "#Quadrato di un numero\n",
    "n = int(input(\"inserisci un numero intero positivo:\"))\n",
    "print(\"Quadrati dei primi\",n,\"numeri\")\n",
    "for numero in range (1,n+1):\n",
    "    quadrato = numero **2\n",
    "print(\"il quadrato di\", n, \"è\", quadrato)"
   ]
  },
  {
   "cell_type": "markdown",
   "id": "07677f61",
   "metadata": {},
   "source": [
    "# Conteggio vocali"
   ]
  },
  {
   "cell_type": "code",
   "execution_count": 51,
   "id": "8e9e05d2",
   "metadata": {},
   "outputs": [
    {
     "name": "stdout",
     "output_type": "stream",
     "text": [
      "inserisci una frase o una parola:CiaoOO\n",
      "nella frase inserita ci sono 5 vocali.\n"
     ]
    }
   ],
   "source": [
    "#Conteggio vocali\n",
    "frase = input(\"inserisci una frase o una parola:\").lower()#per ridurre tutte le lettere minuscole\n",
    "\n",
    "conteggio_vocali = 0\n",
    "\n",
    "vocali = \"aeiou\"\n",
    "\n",
    "for carattere in frase:\n",
    "    if carattere in vocali:\n",
    "        conteggio_vocali += 1\n",
    "\n",
    "print(f\"nella frase inserita ci sono {conteggio_vocali} vocali.\")\n",
    "#per ogni vocale somma uno al conteggio"
   ]
  },
  {
   "cell_type": "markdown",
   "id": "b8cb28d4",
   "metadata": {},
   "source": [
    "# Comando for in range"
   ]
  },
  {
   "cell_type": "code",
   "execution_count": 23,
   "id": "b376ac02",
   "metadata": {},
   "outputs": [
    {
     "name": "stdout",
     "output_type": "stream",
     "text": [
      "0\n",
      "1\n",
      "2\n"
     ]
    }
   ],
   "source": [
    "#Comando for in range\n",
    "for numero in range (3):\n",
    "    print(numero)"
   ]
  },
  {
   "cell_type": "markdown",
   "id": "27515e2a",
   "metadata": {},
   "source": [
    "# Tutti i segni d'operazione in un codice"
   ]
  },
  {
   "cell_type": "code",
   "execution_count": 53,
   "id": "fc502092",
   "metadata": {},
   "outputs": [
    {
     "name": "stdout",
     "output_type": "stream",
     "text": [
      "inserisci l'operazione(+,-,*,/):*\n",
      "inserisci il primo numero3\n",
      "inserisci il secondo numero3\n",
      "il risultato è, 9.0\n"
     ]
    }
   ],
   "source": [
    "#Tutti i segni d'operazione in un codice\n",
    "operazione= input(\"inserisci l'operazione(+,-,*,/):\")\n",
    "numero1=float(input(\"inserisci il primo numero\"))\n",
    "numero2=float(input(\"inserisci il secondo numero\"))\n",
    "if operazione== \"+\":\n",
    "    risultato=numero1+numero2\n",
    "elif operazione== \"-\":\n",
    "    risultato=numero1-numero2\n",
    "elif operazione==\"*\":\n",
    "    risultato=numero1*numero2\n",
    "elif operazione== \"/\":\n",
    "    risultato = numero1/numero2\n",
    "else:\n",
    "    risultato = \"operazione non valida\"\n",
    "print(\"il risultato è,\", risultato)"
   ]
  },
  {
   "cell_type": "markdown",
   "id": "764c3809",
   "metadata": {},
   "source": [
    "# Gioco del dado"
   ]
  },
  {
   "cell_type": "code",
   "execution_count": 55,
   "id": "862faf95",
   "metadata": {},
   "outputs": [
    {
     "name": "stdout",
     "output_type": "stream",
     "text": [
      "indovina il numero del dado (da 1 a 6:)2\n",
      "mi dispiace, il numero del dado era 3. meglio fortuna alla prossima!\n"
     ]
    }
   ],
   "source": [
    "#Gioco del dado\n",
    "import random\n",
    "\n",
    "numero_dado = random.randint(1,6)\n",
    "\n",
    "indovina = int(input(\"indovina il numero del dado (da 1 a 6:)\"))\n",
    "\n",
    "if indovina <1 or indovina >6:\n",
    "    print(\"numero non ammesso\")\n",
    "elif indovina == numero_dado:\n",
    "    print(f\"complimento il numero del dado era {numero_dado}. hai indovinato!\")\n",
    "else:\n",
    "    print(f\"mi dispiace, il numero del dado era {numero_dado}. meglio fortuna alla prossima!\")"
   ]
  },
  {
   "cell_type": "markdown",
   "id": "2d9bd436",
   "metadata": {},
   "source": [
    "# Conteggio della popolazione"
   ]
  },
  {
   "cell_type": "code",
   "execution_count": 25,
   "id": "6b4f265c",
   "metadata": {},
   "outputs": [
    {
     "name": "stdout",
     "output_type": "stream",
     "text": [
      "inserire popolazione iniziale:2500\n",
      "inserire numero di anni da simulare:4\n",
      "inserire tasso di natalità:2.3\n",
      "inserire tasso di mortalità:1.7\n",
      "anno 1: popolazione = 2515\n",
      "anno 2: popolazione = 2530\n",
      "anno 3: popolazione = 2545\n",
      "anno 4: popolazione = 2560\n",
      "simulazione completata\n"
     ]
    }
   ],
   "source": [
    "#Conteggio della popolazione\n",
    "popolazione = int(input(\"inserire popolazione iniziale:\"))\n",
    "anni = int(input(\"inserire numero di anni da simulare:\"))\n",
    "\n",
    "tasso_natalità = float(input(\"inserire tasso di natalità:\"))\n",
    "tasso_mortalità = float(input(\"inserire tasso di mortalità:\"))\n",
    "\n",
    "for anno in range(anni):\n",
    "    nascite = (popolazione * tasso_natalità) / 100\n",
    "    morti = (popolazione * tasso_mortalità) / 100\n",
    "    popolazione += (nascite - morti)\n",
    "\n",
    "    print(f\"anno {anno+1}: popolazione = {int(popolazione)}\")\n",
    "print(\"simulazione completata\")"
   ]
  },
  {
   "cell_type": "markdown",
   "id": "925106ff",
   "metadata": {},
   "source": [
    "# Comando sulla data d'oggi"
   ]
  },
  {
   "cell_type": "code",
   "execution_count": 24,
   "id": "76596c26",
   "metadata": {},
   "outputs": [
    {
     "name": "stdout",
     "output_type": "stream",
     "text": [
      "oggi è il giorno: 09 02 2024 ore: 00 14 11\n"
     ]
    }
   ],
   "source": [
    "#Comando sulla data d'oggi\n",
    "import datetime\n",
    "\n",
    "today= datetime.datetime.today()\n",
    "print(f\"oggi è il giorno: {today:%d %m %Y} ore: {today:%H %M %S}\")"
   ]
  },
  {
   "cell_type": "markdown",
   "id": "d352dce2",
   "metadata": {},
   "source": [
    "# Convertitore di unità di misure"
   ]
  },
  {
   "cell_type": "code",
   "execution_count": 60,
   "id": "419d9799",
   "metadata": {},
   "outputs": [
    {
     "name": "stdout",
     "output_type": "stream",
     "text": [
      "benvenuto nel convertitore di unità di misura!\n",
      "cosa desideri convertire?(metri/piedi/chilogrammi/libbre):piedi\n",
      "inserisci il valore in piedi:66\n",
      "66.0 piedi corrispondono a 216.53544 chilogrami\n",
      "scelta non valida sceltri tra 'metri', 'piedi', 'chilogrammi', o 'libbre'\n"
     ]
    }
   ],
   "source": [
    "#Convertitore di unità di misure\n",
    "print(\"benvenuto nel convertitore di unità di misura!\")\n",
    "scelta = input(\"cosa desideri convertire?(metri/piedi/chilogrammi/libbre):\").lower()\n",
    "\n",
    "if scelta == \"metri\":\n",
    "    valore = float(input(\"inserisci il valore in metri:\"))\n",
    "    risultato = valore * 3.28084\n",
    "    print(f\"{valore} metri corrispondono a {risultato} piedi\")\n",
    "if scelta == \"piedi\":\n",
    "    valore = float(input(\"inserisci il valore in piedi:\"))\n",
    "    risultato = valore * 3.28084\n",
    "    print(f\"{valore} piedi corrispondono a {risultato} chilogrami\")\n",
    "if scelta == \"chilogrammi\":\n",
    "    valore = float(input(\"inserisci il valore in chilogrammi:\"))\n",
    "    risultato = valore * 2.20462\n",
    "    print(f\"{valore}chilogrammi corrispondono a {risultato} libbre\")\n",
    "if scelta == \"libbre\":\n",
    "    valore = float(input(\"inserisci il valore in libbre:\"))\n",
    "    risultato = valore * 3.28084\n",
    "    print(f\"{valore} libbre corrispondono a {risultato} chilogrammi\")\n",
    "else:\n",
    "    print(\"scelta non valida sceltri tra 'metri', 'piedi', 'chilogrammi', o 'libbre'\")"
   ]
  },
  {
   "cell_type": "markdown",
   "id": "6370ec89",
   "metadata": {},
   "source": [
    "# Calcolo numero di fibonacci"
   ]
  },
  {
   "cell_type": "code",
   "execution_count": 61,
   "id": "e8c9d092",
   "metadata": {},
   "outputs": [
    {
     "name": "stdout",
     "output_type": "stream",
     "text": [
      "inserisci un numero n per calcolare l'n'esimo numero di fibonaccio5\n",
      "l'n-esimo numero di fibonacci è: 3\n"
     ]
    }
   ],
   "source": [
    "#Calcolo numero di fibonacci\n",
    "n = int(input(\"inserisci un numero n per calcolare l'n'esimo numero di fibonaccio\"))\n",
    "\n",
    "a=0\n",
    "b=1\n",
    "c=1\n",
    "\n",
    "if n <= 0:\n",
    "    print(\"il numero deve essere maggiore di zero.\")\n",
    "elif n == 1:\n",
    "    risultato = a\n",
    "else:\n",
    "    for iterazione in range(n-3): \n",
    "       a = b\n",
    "       b = c\n",
    "       c = a + b\n",
    "    risultato = c\n",
    "print(\"l'n-esimo numero di fibonacci è:\", risultato)"
   ]
  },
  {
   "cell_type": "markdown",
   "id": "df9d2c55",
   "metadata": {},
   "source": [
    "# Calcolo numero di fibonacci.2"
   ]
  },
  {
   "cell_type": "code",
   "execution_count": 62,
   "id": "868fb6e1",
   "metadata": {},
   "outputs": [],
   "source": [
    "#Calcolo numero di fibonacci.2\n",
    "def fibonacci(n):\n",
    "    fib_series = [0, 1]\n",
    "\n",
    "    while len(fib_series) < n:\n",
    "        fib_series.append(fib_series[-1]+ fib_series[-2])\n",
    "\n",
    "    return fib_series"
   ]
  },
  {
   "cell_type": "code",
   "execution_count": 64,
   "id": "1e868617",
   "metadata": {},
   "outputs": [
    {
     "data": {
      "text/plain": [
       "[0, 1, 1, 2, 3]"
      ]
     },
     "execution_count": 64,
     "metadata": {},
     "output_type": "execute_result"
    }
   ],
   "source": [
    "fibonacci(5)"
   ]
  },
  {
   "cell_type": "markdown",
   "id": "96d3daec",
   "metadata": {},
   "source": [
    "# Calcolo numero di fibonacci.3"
   ]
  },
  {
   "cell_type": "code",
   "execution_count": 65,
   "id": "6b4bf430",
   "metadata": {},
   "outputs": [
    {
     "name": "stdout",
     "output_type": "stream",
     "text": [
      "inserisci il numero di termini della serie di fbonacci5\n",
      "[0, 1, 1, 2, 3]\n"
     ]
    }
   ],
   "source": [
    "#Calcolo numero di fibonacci.3\n",
    "n = int(input(\"inserisci il numero di termini della serie di fbonacci\"))\n",
    "\n",
    "if n <= 0:\n",
    "    print(\"inserisci un numero positivo\")\n",
    "else:\n",
    "    result = fibonacci(n)\n",
    "    print(result)"
   ]
  },
  {
   "cell_type": "markdown",
   "id": "7fc04963",
   "metadata": {},
   "source": [
    "# Calcolo d'aree"
   ]
  },
  {
   "cell_type": "code",
   "execution_count": 66,
   "id": "65441e46",
   "metadata": {},
   "outputs": [],
   "source": [
    "#Calcolo d'aree\n",
    "import math\n",
    "def calcola_area_cerchio(raggio):\n",
    "    return math.pi * (raggio** 2)\n",
    "\n",
    "def calcola_area_rettangolo(base,altezza):\n",
    "    return(base * altezza)\n",
    "\n",
    "def calcola_area_triangolo(base,altezza):\n",
    "    return(base * altezza) / 2"
   ]
  },
  {
   "cell_type": "code",
   "execution_count": 67,
   "id": "7e237a85",
   "metadata": {},
   "outputs": [
    {
     "name": "stdout",
     "output_type": "stream",
     "text": [
      "benvenuti nella calcolatrice delle aree\n",
      "vuoi calcolare l'area di un cerchio(c), rettangolo(r) o triangolo(t)c\n",
      "inserisci il raggio del cerchio:20\n",
      "l'area del cerchio è 1256.64\n",
      "scelta non valida. si prega di inserire 'c', 'r' o 't'.\n"
     ]
    }
   ],
   "source": [
    "print(\"benvenuti nella calcolatrice delle aree\")\n",
    "\n",
    "scelta = input(\"vuoi calcolare l'area di un cerchio(c), rettangolo(r) o triangolo(t)\").lower()\n",
    "\n",
    "if scelta == 'c':\n",
    "    raggio = float(input(\"inserisci il raggio del cerchio:\"))\n",
    "    area = calcola_area_cerchio(raggio)\n",
    "    print(f\"l'area del cerchio è {area:.2f}\")\n",
    "if scelta == 'r':\n",
    "    base = float(input(\"inserisci la base del rettangolo:\"))\n",
    "    area = calcola_area_rettangolo(base,altezza)\n",
    "    print(f\"l'area del rettangolo è {area:.2f}\")\n",
    "if scelta == 't':\n",
    "    base = float(input(\"inserisci la base del triangolo:\"))\n",
    "    area = calcola_area_triangolo(base,altezza)\n",
    "    print(f\"l'area del triangolo è{area:.2f}\")\n",
    "else:\n",
    "    print(\"scelta non valida. si prega di inserire 'c', 'r' o 't'.\")"
   ]
  },
  {
   "cell_type": "markdown",
   "id": "c3e10a61",
   "metadata": {},
   "source": [
    "# Liste"
   ]
  },
  {
   "cell_type": "code",
   "execution_count": 68,
   "id": "32156894",
   "metadata": {},
   "outputs": [
    {
     "name": "stdout",
     "output_type": "stream",
     "text": [
      "inserisci un numero:2\n",
      "il numero non è presente nella lista\n"
     ]
    }
   ],
   "source": [
    "#Liste\n",
    "lista=[15,66,78]\n",
    "x=int(input(\"inserisci un numero:\"))\n",
    "if x in lista:\n",
    "    print(\"numero è presente nella lista\")\n",
    "else:\n",
    "    print(\"il numero non è presente nella lista\")"
   ]
  },
  {
   "cell_type": "markdown",
   "id": "3d5a89ef",
   "metadata": {},
   "source": [
    "# Liste.2"
   ]
  },
  {
   "cell_type": "code",
   "execution_count": null,
   "id": "07a7c9e7",
   "metadata": {},
   "outputs": [],
   "source": [
    "#Liste.2\n",
    "prodotti={}\n",
    "prodotti[\"pan bauletto\"]=2\n",
    "prodotti[\"coca cola\"]=3"
   ]
  },
  {
   "cell_type": "markdown",
   "id": "0cef8d3c",
   "metadata": {},
   "source": [
    "# if __name__==\"__main__\":"
   ]
  },
  {
   "cell_type": "code",
   "execution_count": 72,
   "id": "4da5a9e8",
   "metadata": {},
   "outputs": [],
   "source": [
    "def paolo():\n",
    "    print(\"mi chiamo\")"
   ]
  },
  {
   "cell_type": "code",
   "execution_count": 87,
   "id": "f14e48eb",
   "metadata": {},
   "outputs": [
    {
     "name": "stdout",
     "output_type": "stream",
     "text": [
      "mi chiamo\n"
     ]
    }
   ],
   "source": [
    "if __name__==\"__main__\":\n",
    "    paolo()"
   ]
  },
  {
   "cell_type": "markdown",
   "id": "37171001",
   "metadata": {},
   "source": [
    "# Calcolo dei pesi"
   ]
  },
  {
   "cell_type": "code",
   "execution_count": null,
   "id": "c4975ff2",
   "metadata": {},
   "outputs": [
    {
     "name": "stdout",
     "output_type": "stream",
     "text": [
      "inserisci un numero di persone da valutare:5\n",
      "Benvenuto nella calcolatrice bmi\n"
     ]
    }
   ],
   "source": [
    "def metri_a_piedi(metri):\n",
    "    return metri * 3.28084\n",
    "def piedi_a_metri(piedi):\n",
    "    return piedi / 3.28084\n",
    "def chilogrammi_a_libbre(chilogrammi):\n",
    "    return chilogrammi * 2.20462\n",
    "def libbre_a_chilogrammi(libbre):\n",
    "    return libbre / 2.20462\n",
    "\n",
    "def selezione(scelta):\n",
    "    if scelta == \"metri\":\n",
    "        valore = float(input(\"inserisci il valore in metri:\"))\n",
    "        risultato = metri_a_piedi(valore)\n",
    "        print(f\"{valore: .3f}metri corrispondono a {risultato: .3f}piedi.\")\n",
    "    if scelta == \"piedi\":\n",
    "        valore = float(input(\"inserisci il valore in piedi:\"))\n",
    "        risultato = piedi_a_metri(valore)\n",
    "        print(f\"{valore: .3f}piedi corrispondono a {risultato: .3f}metri.\")\n",
    "    if scelta == \"chilogrammi\":\n",
    "        valore = float(input(\"inserisci il valore in chilogrammi:\"))\n",
    "        risultato = chilogrammi_a_libbre(valore)\n",
    "        print(f\"{valore: .3f}chilogrammi corrispondono a {risultato: .3f}libbre.\")\n",
    "    if scelta == \"libbre\":\n",
    "        valore = float(input(\"inserisci il valore in libbre:\"))\n",
    "        risultato = libbre_a_chilogrammi(valore)\n",
    "        print(f\"{valore: .3f}libbre corrispondono a {risultato: .3f}chilogrammi\")\n",
    "    else:\n",
    "        print(\"sveglia scelta non valida\")\n",
    "\n",
    "    def main():\n",
    "        print(\"Ciao\")\n",
    "        scelta = (\"scegli\").lower()\n",
    "if __name__==\"__main__\":\n",
    "    main()"
   ]
  },
  {
   "cell_type": "markdown",
   "id": "58664409",
   "metadata": {},
   "source": [
    "# Calcolo delle calorie"
   ]
  },
  {
   "cell_type": "code",
   "execution_count": 95,
   "id": "ba9ece8a",
   "metadata": {},
   "outputs": [
    {
     "name": "stdout",
     "output_type": "stream",
     "text": [
      "Menu:\n",
      "\n",
      " 1. aggiungi cibo consumato\n",
      "\n",
      " 2. calcolacalorie totali\n",
      "\n",
      " 3. esci\n",
      "scegli un'opzione1\n",
      "\n",
      "\n",
      "Pizza 285\n",
      "hambuger 250\n",
      "insalata 100\n",
      "pollo arrosto 335\n",
      "yogurt 150\n",
      "inserisci il cibo consumato:insalata\n",
      "inserisci la quantità (in grammi):30\n",
      "Menu:\n",
      "\n",
      " 1. aggiungi cibo consumato\n",
      "\n",
      " 2. calcolacalorie totali\n",
      "\n",
      " 3. esci\n",
      "scegli un'opzione2\n",
      "\n",
      "Calorie totali consumate: 30.0 calore\n",
      "Menu:\n",
      "\n",
      " 1. aggiungi cibo consumato\n",
      "\n",
      " 2. calcolacalorie totali\n",
      "\n",
      " 3. esci\n",
      "scegli un'opzione3\n"
     ]
    }
   ],
   "source": [
    "#Calcolo delle calorie\n",
    "cibo_calorie = {\n",
    "    \"Pizza\": 285,\n",
    "    \"hambuger\": 250,\n",
    "    \"insalata\": 100,\n",
    "    \"pollo arrosto\": 335,\n",
    "    \"yogurt\": 150\n",
    "}\n",
    "\n",
    "def calorie_consumate(cibo, quantita):\n",
    "    if cibo not in cibo_calorie.keys():\n",
    "        print(\"cibo non presente\")\n",
    "    elif cibo in cibo_calorie.keys():\n",
    "        calorie_per_100g = cibo_calorie[cibo]\n",
    "        calorie_totali = (calorie_per_100g / 100) * quantita\n",
    "        return calorie_totali\n",
    "\n",
    "def main():\n",
    "    cibo_consumato = []\n",
    "\n",
    "    while True:\n",
    "        print(\"Menu:\")\n",
    "        print(\"\\n 1. aggiungi cibo consumato\")\n",
    "        print(\"\\n 2. calcolacalorie totali\")\n",
    "        print(\"\\n 3. esci\")\n",
    "\n",
    "        scelta  = input(\"scegli un'opzione\")\n",
    "\n",
    "        if scelta == \"1\":\n",
    "            print(\"\\n\")\n",
    "\n",
    "            for key, value in cibo_calorie.items():\n",
    "                print(key, value)\n",
    "\n",
    "            cibo = input(\"inserisci il cibo consumato:\").lower()\n",
    "            quantita = float(input(\"inserisci la quantità (in grammi):\"))\n",
    "            cibo_consumato.append((cibo, quantita))\n",
    "\n",
    "        elif scelta == \"2\":\n",
    "            calorie_totali = sum(calorie_consumate(c, q)for c, q in cibo_consumato)\n",
    "            print(f\"\\nCalorie totali consumate: {calorie_totali} calore\")\n",
    "        elif scelta == \"3\":\n",
    "            break\n",
    "        else:\n",
    "            print(\"\\nScelta non valida. riprova\")\n",
    "if __name__==\"__main__\":\n",
    "    main()"
   ]
  },
  {
   "cell_type": "markdown",
   "id": "cf72b3ea",
   "metadata": {},
   "source": [
    "# Dizionario python"
   ]
  },
  {
   "cell_type": "code",
   "execution_count": 97,
   "id": "17a0252a",
   "metadata": {},
   "outputs": [],
   "source": [
    "acquistidue={\n",
    "    \"pan bauletto\":10,\n",
    "    \"nutella\":10,\n",
    "}"
   ]
  },
  {
   "cell_type": "code",
   "execution_count": 98,
   "id": "cdceb5bb",
   "metadata": {},
   "outputs": [],
   "source": [
    "acquisti={}\n",
    "acquisti[\"pan bauletto\"]=10\n",
    "acquisti[\"nutella\"]=10"
   ]
  },
  {
   "cell_type": "markdown",
   "id": "472bb84a",
   "metadata": {},
   "source": [
    "# Random selecton"
   ]
  },
  {
   "cell_type": "code",
   "execution_count": 99,
   "id": "446c3827",
   "metadata": {},
   "outputs": [
    {
     "name": "stdout",
     "output_type": "stream",
     "text": [
      "personaggio fantasy generato:\n",
      "specie:elfo\n",
      "classe:ranger\n",
      "arma:ascia\n",
      "abilità: camuffamento,magia dell'acqua,incantesimi di guarigione\n"
     ]
    }
   ],
   "source": [
    "import random\n",
    "\n",
    "speci = [\"elfo\", \"umano\", \"nano\", \"orco\", \"gnomo\"]\n",
    "classi = [\"guerriero\",\"mago\",\"ranger\",\"ladro\",\"chierico\"]\n",
    "armi = [\"spada\",\"arco\",\"bachetta magica\",\"ascia\",\"daga\"]\n",
    "abilita =[\"furtivita\",\"magia dell'acqua\",\"camuffamento\",\"estrazione mineraria\",\"incantesimi di guarigione\"]\n",
    "\n",
    "specie = random.choice(speci)\n",
    "classe = random.choice(classi)\n",
    "arma = random.choice(armi)\n",
    "abilita_scelta = random.sample(abilita, random.randint(1, 3))\n",
    "\n",
    "print(f\"personaggio fantasy generato:\")\n",
    "print(f\"specie:{specie}\")\n",
    "print(f\"classe:{classe}\")\n",
    "print(f\"arma:{arma}\")\n",
    "print(f\"abilità: {','.join(abilita_scelta)}\")"
   ]
  },
  {
   "cell_type": "markdown",
   "id": "4e3a1af3",
   "metadata": {},
   "source": [
    "# Grafici con matplotlib"
   ]
  },
  {
   "cell_type": "code",
   "execution_count": 29,
   "id": "ba646ab1",
   "metadata": {},
   "outputs": [
    {
     "data": {
      "image/png": "[encoded data removed]",
      "text/plain": [
       "<Figure size 640x480 with 1 Axes>"
      ]
     },
     "metadata": {},
     "output_type": "display_data"
    }
   ],
   "source": [
    "import matplotlib.pyplot as plt\n",
    "animali = ['Elefanti', 'Leoni', 'Tigri', 'Scimmie', 'Zebre']\n",
    "numero_animali= [4,3,2,8,15]\n",
    "plt.bar(animali, numero_animali, color=\"lightblue\")\n",
    "plt.show()"
   ]
  },
  {
   "cell_type": "markdown",
   "id": "9c74e13b",
   "metadata": {},
   "source": [
    "# Grafici con matplotlib"
   ]
  },
  {
   "cell_type": "code",
   "execution_count": 25,
   "id": "2bfdd1f0",
   "metadata": {
    "scrolled": true
   },
   "outputs": [
    {
     "data": {
      "image/png": "[encoded data removed]",
      "text/plain": [
       "<Figure size 640x480 with 1 Axes>"
      ]
     },
     "metadata": {},
     "output_type": "display_data"
    }
   ],
   "source": [
    "import matplotlib.pyplot as plt\n",
    "animali = ['Elefanti', 'Leoni', 'Tigri', 'Scimmie', 'Zebre']\n",
    "numero_animali= [4,3,2,8,15]\n",
    "\n",
    "plt.bar(animali, numero_animali, color= 'lightblue')\n",
    "plt.title=('Numero di animali in uno zoo')\n",
    "plt.xlabel('animali')\n",
    "plt.ylabel('numero')\n",
    "\n",
    "plt.show()"
   ]
  },
  {
   "cell_type": "markdown",
   "id": "1708def1",
   "metadata": {},
   "source": [
    "# Grafico grid"
   ]
  },
  {
   "cell_type": "code",
   "execution_count": 22,
   "id": "5f5034bd",
   "metadata": {},
   "outputs": [
    {
     "data": {
      "image/png": "[encoded data removed]",
      "text/plain": [
       "<Figure size 640x480 with 1 Axes>"
      ]
     },
     "metadata": {},
     "output_type": "display_data"
    }
   ],
   "source": [
    "mese = ['Gennaio', 'Febbraio', 'Marzo', 'Aprile', 'Maggio']\n",
    "temperatura_media = [10, 12, 15, 18, 22]\n",
    "plt.plot(mese, temperatura_media, marker='*',linestyle='-',color='lightblue')\n",
    "plt.title=('Andamento delle temperature medie mensili')\n",
    "plt.xlabel('Mese')\n",
    "plt.ylabel('Temperatura media (C)')\n",
    "plt.grid(True)\n",
    "plt.show()"
   ]
  },
  {
   "cell_type": "markdown",
   "id": "4efa61c7",
   "metadata": {},
   "source": [
    "# Grafici grid asse Y"
   ]
  },
  {
   "cell_type": "code",
   "execution_count": 21,
   "id": "5da13c41",
   "metadata": {},
   "outputs": [
    {
     "data": {
      "image/png": "[encoded data removed]",
      "text/plain": [
       "<Figure size 640x480 with 1 Axes>"
      ]
     },
     "metadata": {},
     "output_type": "display_data"
    }
   ],
   "source": [
    "mese = ['Gennaio', 'Febbraio', 'Marzo', 'Aprile', 'Maggio']\n",
    "temperatura_media = [10, 12, 15, 18, 22]\n",
    "plt.plot(mese, temperatura_media, marker='*',linestyle='-',color='lightblue')\n",
    "plt.title=('Andamento delle temperature medie mensili')\n",
    "plt.xlabel('Mese')\n",
    "plt.ylabel('Temperatura media (C)')\n",
    "plt.grid(True,axis=\"y\")\n",
    "plt.show()"
   ]
  },
  {
   "cell_type": "markdown",
   "id": "90174404",
   "metadata": {},
   "source": [
    "# Grafici con dizionario python"
   ]
  },
  {
   "cell_type": "code",
   "execution_count": 26,
   "id": "f33e38de",
   "metadata": {},
   "outputs": [
    {
     "data": {
      "image/png": "[encoded data removed]",
      "text/plain": [
       "<Figure size 640x480 with 1 Axes>"
      ]
     },
     "metadata": {},
     "output_type": "display_data"
    }
   ],
   "source": [
    "vendite_mensili={\n",
    "    \"gen\":1200,\n",
    "    \"feb\":1000,\n",
    "    \"mar\":3300,\n",
    "    \"apr\":4555\n",
    "}\n",
    "plt.bar(vendite_mensili.keys(),vendite_mensili.values(), color=\"blue\")\n",
    "plt.show()"
   ]
  },
  {
   "cell_type": "markdown",
   "id": "1f447f55",
   "metadata": {},
   "source": [
    "# Grafico a torta"
   ]
  },
  {
   "cell_type": "code",
   "execution_count": 6,
   "id": "85e9d3a5",
   "metadata": {},
   "outputs": [
    {
     "data": {
      "image/png": "[encoded data removed]",
      "text/plain": [
       "<Figure size 640x480 with 1 Axes>"
      ]
     },
     "metadata": {},
     "output_type": "display_data"
    }
   ],
   "source": [
    "colori = ['gold', 'lightcoral', 'lightskyblue', 'lightgreen', 'pink']\n",
    "mese = ['Gennaio', 'Febbraio', 'Marzo', 'Aprile', 'Maggio']\n",
    "temperatura_media = [10, 12, 15, 18, 22]\n",
    "plt.pie(temperatura_media, labels=mese, colors=colori)\n",
    "plt.title('percentuale di temperatura media mensile')\n",
    "plt.show()"
   ]
  },
  {
   "cell_type": "markdown",
   "id": "3fa02f4c",
   "metadata": {},
   "source": [
    "# Grafico a torta"
   ]
  },
  {
   "cell_type": "code",
   "execution_count": 10,
   "id": "6a1e7bd6",
   "metadata": {},
   "outputs": [
    {
     "data": {
      "image/png": "[encoded data removed]",
      "text/plain": [
       "<Figure size 640x480 with 1 Axes>"
      ]
     },
     "metadata": {},
     "output_type": "display_data"
    }
   ],
   "source": [
    "colori = ['gold', 'lightcoral', 'lightskyblue', 'lightgreen', 'pink']\n",
    "temperature_mesi={\n",
    "    'Gennaio':10,\n",
    "    'Febbraio':12, \n",
    "    'Marzo':15,\n",
    "    'Aprile':18,\n",
    "    'Maggio':22    \n",
    "}\n",
    "\n",
    "plt.pie(temperature_mesi.values(), labels=temperature_mesi.keys(), colors=colori)\n",
    "plt.title(\"temperature media mensile\")\n",
    "plt.show()"
   ]
  },
  {
   "cell_type": "markdown",
   "id": "0b3d3069",
   "metadata": {},
   "source": [
    "# Grafico Scatter"
   ]
  },
  {
   "cell_type": "code",
   "execution_count": 4,
   "id": "eeb1cf27",
   "metadata": {},
   "outputs": [
    {
     "data": {
      "image/png": "[encoded data removed]",
      "text/plain": [
       "<Figure size 640x480 with 1 Axes>"
      ]
     },
     "metadata": {},
     "output_type": "display_data"
    }
   ],
   "source": [
    "import matplotlib.pyplot as plt\n",
    "età = [14, 15, 16, 17, 18, 19]\n",
    "altezza = [160, 165, 170, 175, 180, 185]\n",
    "plt.scatter(età,altezza, color=\"red\",marker=\"o\")\n",
    "plt.title(\"scatter plot - età vs altezza\")\n",
    "plt.xlabel(\"età\")\n",
    "plt.ylabel(\"altezza(cm)\")\n",
    "plt.grid(True,axis=\"y\")\n",
    "plt.show()"
   ]
  },
  {
   "cell_type": "markdown",
   "id": "b46109ac",
   "metadata": {},
   "source": [
    "# Grafico orizzontale"
   ]
  },
  {
   "cell_type": "code",
   "execution_count": 13,
   "id": "9f39af68",
   "metadata": {},
   "outputs": [
    {
     "data": {
      "image/png": "[encoded data removed]",
      "text/plain": [
       "<Figure size 640x480 with 1 Axes>"
      ]
     },
     "metadata": {},
     "output_type": "display_data"
    }
   ],
   "source": [
    "import matplotlib.pyplot as plt\n",
    "nomi_studenti = [\"alice\",\"bob\",\"charlie\",\"david\",\"eve\"]\n",
    "punteggi = [4,3,2,8,15]\n",
    "plt.barh(nomi_studenti, punteggi, color=\"lightblue\")\n",
    "plt.title(\"punteggi degli stutendi\")\n",
    "plt.xlabel(\"punteggio\")\n",
    "plt.ylabel(\"nome dello studente\")\n",
    "plt.show()"
   ]
  },
  {
   "cell_type": "code",
   "execution_count": 27,
   "id": "a4fd0be7",
   "metadata": {},
   "outputs": [
    {
     "data": {
      "image/png": "[encoded data removed]",
      "text/plain": [
       "<Figure size 640x480 with 1 Axes>"
      ]
     },
     "metadata": {},
     "output_type": "display_data"
    }
   ],
   "source": [
    "import matplotlib.pyplot as plt\n",
    "import pandas as pd\n",
    "\n",
    "nomi_studenti = ['Alice', 'Bob', 'Charlie', 'David', 'Eve']\n",
    "punteggi = [85, 92, 78, 88, 95]\n",
    "\n",
    "# Crea un DataFrame con nomi e punteggi\n",
    "data = {'Nome dello Studente': nomi_studenti, 'Punteggio': punteggi}\n",
    "df = pd.DataFrame(data)\n",
    "\n",
    "df.sort_values(by= \"Punteggio\", inplace=True)\n",
    "\n",
    "plt.barh(df[\"Nome dello Studente\"], df[\"Punteggio\"], color=\"lightgreen\")\n",
    "plt.title(\"punteggio degli studenti\")\n",
    "plt.xlabel(\"Punteggio\")\n",
    "plt.ylabel(\"Nome dello studente\")\n",
    "plt.show()"
   ]
  },
  {
   "cell_type": "code",
   "execution_count": 16,
   "id": "9c783f01",
   "metadata": {},
   "outputs": [
    {
     "data": {
      "text/html": [
       "<div>\n",
       "<style scoped>\n",
       "    .dataframe tbody tr th:only-of-type {\n",
       "        vertical-align: middle;\n",
       "    }\n",
       "\n",
       "    .dataframe tbody tr th {\n",
       "        vertical-align: top;\n",
       "    }\n",
       "\n",
       "    .dataframe thead th {\n",
       "        text-align: right;\n",
       "    }\n",
       "</style>\n",
       "<table border=\"1\" class=\"dataframe\">\n",
       "  <thead>\n",
       "    <tr style=\"text-align: right;\">\n",
       "      <th></th>\n",
       "      <th>Nome dello Studente</th>\n",
       "      <th>Punteggio</th>\n",
       "    </tr>\n",
       "  </thead>\n",
       "  <tbody>\n",
       "    <tr>\n",
       "      <th>0</th>\n",
       "      <td>Alice</td>\n",
       "      <td>85</td>\n",
       "    </tr>\n",
       "    <tr>\n",
       "      <th>1</th>\n",
       "      <td>Bob</td>\n",
       "      <td>92</td>\n",
       "    </tr>\n",
       "    <tr>\n",
       "      <th>2</th>\n",
       "      <td>Charlie</td>\n",
       "      <td>78</td>\n",
       "    </tr>\n",
       "    <tr>\n",
       "      <th>3</th>\n",
       "      <td>David</td>\n",
       "      <td>88</td>\n",
       "    </tr>\n",
       "    <tr>\n",
       "      <th>4</th>\n",
       "      <td>Eve</td>\n",
       "      <td>95</td>\n",
       "    </tr>\n",
       "  </tbody>\n",
       "</table>\n",
       "</div>"
      ],
      "text/plain": [
       "  Nome dello Studente  Punteggio\n",
       "0               Alice         85\n",
       "1                 Bob         92\n",
       "2             Charlie         78\n",
       "3               David         88\n",
       "4                 Eve         95"
      ]
     },
     "execution_count": 16,
     "metadata": {},
     "output_type": "execute_result"
    }
   ],
   "source": [
    "df"
   ]
  },
  {
   "cell_type": "markdown",
   "id": "c1b7fa46",
   "metadata": {},
   "source": [
    "# Grafico a disperzione altezza vs peso"
   ]
  },
  {
   "cell_type": "code",
   "execution_count": 23,
   "id": "7df61b91",
   "metadata": {},
   "outputs": [
    {
     "data": {
      "image/png": "[encoded data removed]",
      "text/plain": [
       "<Figure size 640x480 with 1 Axes>"
      ]
     },
     "metadata": {},
     "output_type": "display_data"
    }
   ],
   "source": [
    "import matplotlib.pyplot as plt\n",
    "import numpy as np\n",
    "altezza_maschi = np.random.normal(195,18,50)\n",
    "peso_maschi = np.random.normal(70,5,50)\n",
    "\n",
    "altezza_femmine = np.random.normal(162,6,50)\n",
    "peso_femmine = np.random.normal(58,4,50)\n",
    "\n",
    "plt.scatter(altezza_maschi,peso_maschi, color=\"blue\", label=\"maschi\", marker=\"o\")\n",
    "\n",
    "plt.scatter(altezza_femmine, peso_femmine, color=\"pink\", label=\"femmine\", marker=\"o\")\n",
    "\n",
    "plt.title(\"grafico a dispersione altezza vs peso\")\n",
    "plt.xlabel(\"altezza(cm)\")\n",
    "plt.ylabel(\"peso(kg)\")\n",
    "plt.legend(loc= \"upper right\")\n",
    "plt.grid(True)\n",
    "plt.show()\n"
   ]
  },
  {
   "cell_type": "markdown",
   "id": "7723ec87",
   "metadata": {},
   "source": [
    "# Dataframes e Dataframes con dati mancanti "
   ]
  },
  {
   "cell_type": "code",
   "execution_count": 12,
   "id": "c2a8d01e",
   "metadata": {},
   "outputs": [
    {
     "data": {
      "text/html": [
       "<div>\n",
       "<style scoped>\n",
       "    .dataframe tbody tr th:only-of-type {\n",
       "        vertical-align: middle;\n",
       "    }\n",
       "\n",
       "    .dataframe tbody tr th {\n",
       "        vertical-align: top;\n",
       "    }\n",
       "\n",
       "    .dataframe thead th {\n",
       "        text-align: right;\n",
       "    }\n",
       "</style>\n",
       "<table border=\"1\" class=\"dataframe\">\n",
       "  <thead>\n",
       "    <tr style=\"text-align: right;\">\n",
       "      <th></th>\n",
       "      <th>età</th>\n",
       "      <th>punteggio</th>\n",
       "      <th>ammesso</th>\n",
       "    </tr>\n",
       "  </thead>\n",
       "  <tbody>\n",
       "    <tr>\n",
       "      <th>0</th>\n",
       "      <td>25.0</td>\n",
       "      <td>90.0</td>\n",
       "      <td>1.0</td>\n",
       "    </tr>\n",
       "    <tr>\n",
       "      <th>1</th>\n",
       "      <td>NaN</td>\n",
       "      <td>85.0</td>\n",
       "      <td>0.0</td>\n",
       "    </tr>\n",
       "    <tr>\n",
       "      <th>2</th>\n",
       "      <td>28.0</td>\n",
       "      <td>NaN</td>\n",
       "      <td>1.0</td>\n",
       "    </tr>\n",
       "    <tr>\n",
       "      <th>3</th>\n",
       "      <td>NaN</td>\n",
       "      <td>75.0</td>\n",
       "      <td>1.0</td>\n",
       "    </tr>\n",
       "    <tr>\n",
       "      <th>4</th>\n",
       "      <td>23.0</td>\n",
       "      <td>NaN</td>\n",
       "      <td>NaN</td>\n",
       "    </tr>\n",
       "    <tr>\n",
       "      <th>5</th>\n",
       "      <td>23.0</td>\n",
       "      <td>77.0</td>\n",
       "      <td>NaN</td>\n",
       "    </tr>\n",
       "  </tbody>\n",
       "</table>\n",
       "</div>"
      ],
      "text/plain": [
       "    età  punteggio  ammesso\n",
       "0  25.0       90.0      1.0\n",
       "1   NaN       85.0      0.0\n",
       "2  28.0        NaN      1.0\n",
       "3   NaN       75.0      1.0\n",
       "4  23.0        NaN      NaN\n",
       "5  23.0       77.0      NaN"
      ]
     },
     "execution_count": 12,
     "metadata": {},
     "output_type": "execute_result"
    }
   ],
   "source": [
    "import pandas as pd\n",
    "\n",
    "# Dataset con dati mancanti rappresentati da None o NaN\n",
    "dataset = [\n",
    "    {\"età\": 25, \"punteggio\": 90, \"ammesso\": 1},\n",
    "    {\"età\": None, \"punteggio\": 85, \"ammesso\": 0},\n",
    "    {\"età\": 28, \"punteggio\": None, \"ammesso\": 1},\n",
    "    {\"età\": None, \"punteggio\": 75, \"ammesso\": 1},\n",
    "    {\"età\": 23, \"punteggio\": None, \"ammesso\": None},\n",
    "    {\"età\": 23, \"punteggio\": 77, \"ammesso\": None},\n",
    "]\n",
    "df = pd.DataFrame(dataset)\n",
    "df"
   ]
  },
  {
   "cell_type": "code",
   "execution_count": 3,
   "id": "7f1d879b",
   "metadata": {},
   "outputs": [
    {
     "data": {
      "text/plain": [
       "0    90.0\n",
       "1    85.0\n",
       "2     NaN\n",
       "3    75.0\n",
       "4     NaN\n",
       "5    77.0\n",
       "Name: punteggio, dtype: float64"
      ]
     },
     "execution_count": 3,
     "metadata": {},
     "output_type": "execute_result"
    }
   ],
   "source": [
    "df[\"punteggio\"]"
   ]
  },
  {
   "cell_type": "code",
   "execution_count": null,
   "id": "db7e0128",
   "metadata": {},
   "outputs": [],
   "source": []
  },
  {
   "cell_type": "code",
   "execution_count": 19,
   "id": "ea536aba",
   "metadata": {},
   "outputs": [
    {
     "data": {
      "text/html": [
       "<div>\n",
       "<style scoped>\n",
       "    .dataframe tbody tr th:only-of-type {\n",
       "        vertical-align: middle;\n",
       "    }\n",
       "\n",
       "    .dataframe tbody tr th {\n",
       "        vertical-align: top;\n",
       "    }\n",
       "\n",
       "    .dataframe thead th {\n",
       "        text-align: right;\n",
       "    }\n",
       "</style>\n",
       "<table border=\"1\" class=\"dataframe\">\n",
       "  <thead>\n",
       "    <tr style=\"text-align: right;\">\n",
       "      <th></th>\n",
       "      <th>Variable1</th>\n",
       "      <th>Variable2</th>\n",
       "      <th>Missing_Column</th>\n",
       "    </tr>\n",
       "  </thead>\n",
       "  <tbody>\n",
       "    <tr>\n",
       "      <th>2</th>\n",
       "      <td>3</td>\n",
       "      <td>NaN</td>\n",
       "      <td>A</td>\n",
       "    </tr>\n",
       "    <tr>\n",
       "      <th>4</th>\n",
       "      <td>5</td>\n",
       "      <td>NaN</td>\n",
       "      <td>NaN</td>\n",
       "    </tr>\n",
       "  </tbody>\n",
       "</table>\n",
       "</div>"
      ],
      "text/plain": [
       "   Variable1  Variable2 Missing_Column\n",
       "2          3        NaN              A\n",
       "4          5        NaN            NaN"
      ]
     },
     "execution_count": 19,
     "metadata": {},
     "output_type": "execute_result"
    }
   ],
   "source": [
    "#identificazione delle righe con dati mancanti\n",
    "righe_con_dati_mancanti = df[df.isnull().any(axis=1)]\n",
    "righe_con_dati_mancanti"
   ]
  },
  {
   "cell_type": "code",
   "execution_count": 21,
   "id": "580ffcad",
   "metadata": {},
   "outputs": [
    {
     "data": {
      "text/plain": [
       "2"
      ]
     },
     "execution_count": 21,
     "metadata": {},
     "output_type": "execute_result"
    }
   ],
   "source": [
    "#conta quante righe con dati mancanti ci sono in totale\n",
    "totale_dati_mancanti = righe_con_dati_mancanti.shape[0]\n",
    "totale_dati_mancanti"
   ]
  },
  {
   "cell_type": "code",
   "execution_count": 9,
   "id": "60535dec",
   "metadata": {},
   "outputs": [
    {
     "name": "stdout",
     "output_type": "stream",
     "text": [
      "righe con dati mancanti:\n",
      "    età  punteggio  ammesso\n",
      "1   NaN       85.0      0.0\n",
      "2  28.0        NaN      1.0\n",
      "3   NaN       75.0      1.0\n",
      "4  23.0        NaN      NaN\n",
      "5  23.0       77.0      NaN\n",
      "totale dati mancanti: 5\n"
     ]
    }
   ],
   "source": [
    "print(\"righe con dati mancanti:\")\n",
    "print(righe_con_dati_mancanti)\n",
    "print(\"totale dati mancanti:\", totale_dati_mancanti)"
   ]
  },
  {
   "cell_type": "code",
   "execution_count": 17,
   "id": "9e31ff33",
   "metadata": {},
   "outputs": [
    {
     "data": {
      "text/html": [
       "<div>\n",
       "<style scoped>\n",
       "    .dataframe tbody tr th:only-of-type {\n",
       "        vertical-align: middle;\n",
       "    }\n",
       "\n",
       "    .dataframe tbody tr th {\n",
       "        vertical-align: top;\n",
       "    }\n",
       "\n",
       "    .dataframe thead th {\n",
       "        text-align: right;\n",
       "    }\n",
       "</style>\n",
       "<table border=\"1\" class=\"dataframe\">\n",
       "  <thead>\n",
       "    <tr style=\"text-align: right;\">\n",
       "      <th></th>\n",
       "      <th>nome</th>\n",
       "      <th>età</th>\n",
       "      <th>punteggio</th>\n",
       "      <th>email</th>\n",
       "    </tr>\n",
       "  </thead>\n",
       "  <tbody>\n",
       "    <tr>\n",
       "      <th>0</th>\n",
       "      <td>Alice</td>\n",
       "      <td>25</td>\n",
       "      <td>90.0</td>\n",
       "      <td>alice@email.com</td>\n",
       "    </tr>\n",
       "    <tr>\n",
       "      <th>1</th>\n",
       "      <td>Bob</td>\n",
       "      <td>22</td>\n",
       "      <td>NaN</td>\n",
       "      <td>None</td>\n",
       "    </tr>\n",
       "    <tr>\n",
       "      <th>2</th>\n",
       "      <td>Charlie</td>\n",
       "      <td>28</td>\n",
       "      <td>75.0</td>\n",
       "      <td>charlie@email.com</td>\n",
       "    </tr>\n",
       "  </tbody>\n",
       "</table>\n",
       "</div>"
      ],
      "text/plain": [
       "      nome  età  punteggio              email\n",
       "0    Alice   25       90.0    alice@email.com\n",
       "1      Bob   22        NaN               None\n",
       "2  Charlie   28       75.0  charlie@email.com"
      ]
     },
     "execution_count": 17,
     "metadata": {},
     "output_type": "execute_result"
    }
   ],
   "source": [
    "import pandas as pd\n",
    "\n",
    "# Dataset con dati mancanti rappresentati da None o NaN\n",
    "dataset = [\n",
    "    {\"nome\": \"Alice\", \"età\": 25, \"punteggio\": 90, \"email\": \"alice@email.com\"},\n",
    "    {\"nome\": \"Bob\", \"età\": 22, \"punteggio\": None, \"email\": None},\n",
    "    {\"nome\": \"Charlie\", \"età\": 28, \"punteggio\": 75, \"email\": \"charlie@email.com\"},\n",
    "]\n",
    "\n",
    "# Converti il dataset in un DataFrame\n",
    "df = pd.DataFrame(dataset)\n",
    "df"
   ]
  },
  {
   "cell_type": "code",
   "execution_count": 18,
   "id": "c7a67dd8",
   "metadata": {},
   "outputs": [
    {
     "data": {
      "text/html": [
       "<div>\n",
       "<style scoped>\n",
       "    .dataframe tbody tr th:only-of-type {\n",
       "        vertical-align: middle;\n",
       "    }\n",
       "\n",
       "    .dataframe tbody tr th {\n",
       "        vertical-align: top;\n",
       "    }\n",
       "\n",
       "    .dataframe thead th {\n",
       "        text-align: right;\n",
       "    }\n",
       "</style>\n",
       "<table border=\"1\" class=\"dataframe\">\n",
       "  <thead>\n",
       "    <tr style=\"text-align: right;\">\n",
       "      <th></th>\n",
       "      <th>nome</th>\n",
       "      <th>età</th>\n",
       "      <th>punteggio</th>\n",
       "      <th>email</th>\n",
       "    </tr>\n",
       "  </thead>\n",
       "  <tbody>\n",
       "    <tr>\n",
       "      <th>0</th>\n",
       "      <td>Alice</td>\n",
       "      <td>25</td>\n",
       "      <td>90.0</td>\n",
       "      <td>alice@email.com</td>\n",
       "    </tr>\n",
       "    <tr>\n",
       "      <th>1</th>\n",
       "      <td>Bob</td>\n",
       "      <td>22</td>\n",
       "      <td>NaN</td>\n",
       "      <td>None</td>\n",
       "    </tr>\n",
       "    <tr>\n",
       "      <th>2</th>\n",
       "      <td>Charlie</td>\n",
       "      <td>28</td>\n",
       "      <td>75.0</td>\n",
       "      <td>charlie@email.com</td>\n",
       "    </tr>\n",
       "  </tbody>\n",
       "</table>\n",
       "</div>"
      ],
      "text/plain": [
       "      nome  età  punteggio              email\n",
       "0    Alice   25       90.0    alice@email.com\n",
       "1      Bob   22        NaN               None\n",
       "2  Charlie   28       75.0  charlie@email.com"
      ]
     },
     "execution_count": 18,
     "metadata": {},
     "output_type": "execute_result"
    }
   ],
   "source": [
    "#rimuovi le righe con dati mancanti\n",
    "df1=df.dropna(inplace=False)\n",
    "df"
   ]
  },
  {
   "cell_type": "code",
   "execution_count": 19,
   "id": "867a3e24",
   "metadata": {},
   "outputs": [
    {
     "data": {
      "text/html": [
       "<div>\n",
       "<style scoped>\n",
       "    .dataframe tbody tr th:only-of-type {\n",
       "        vertical-align: middle;\n",
       "    }\n",
       "\n",
       "    .dataframe tbody tr th {\n",
       "        vertical-align: top;\n",
       "    }\n",
       "\n",
       "    .dataframe thead th {\n",
       "        text-align: right;\n",
       "    }\n",
       "</style>\n",
       "<table border=\"1\" class=\"dataframe\">\n",
       "  <thead>\n",
       "    <tr style=\"text-align: right;\">\n",
       "      <th></th>\n",
       "      <th>nome</th>\n",
       "      <th>età</th>\n",
       "      <th>punteggio</th>\n",
       "      <th>email</th>\n",
       "    </tr>\n",
       "  </thead>\n",
       "  <tbody>\n",
       "    <tr>\n",
       "      <th>0</th>\n",
       "      <td>Alice</td>\n",
       "      <td>25</td>\n",
       "      <td>90.0</td>\n",
       "      <td>alice@email.com</td>\n",
       "    </tr>\n",
       "    <tr>\n",
       "      <th>2</th>\n",
       "      <td>Charlie</td>\n",
       "      <td>28</td>\n",
       "      <td>75.0</td>\n",
       "      <td>charlie@email.com</td>\n",
       "    </tr>\n",
       "  </tbody>\n",
       "</table>\n",
       "</div>"
      ],
      "text/plain": [
       "      nome  età  punteggio              email\n",
       "0    Alice   25       90.0    alice@email.com\n",
       "2  Charlie   28       75.0  charlie@email.com"
      ]
     },
     "execution_count": 19,
     "metadata": {},
     "output_type": "execute_result"
    }
   ],
   "source": [
    "#rimuovi le righe con dati mancanti\n",
    "df1=df.dropna(inplace=False)\n",
    "df1"
   ]
  },
  {
   "cell_type": "code",
   "execution_count": 31,
   "id": "093a8a21",
   "metadata": {},
   "outputs": [
    {
     "data": {
      "text/html": [
       "<div>\n",
       "<style scoped>\n",
       "    .dataframe tbody tr th:only-of-type {\n",
       "        vertical-align: middle;\n",
       "    }\n",
       "\n",
       "    .dataframe tbody tr th {\n",
       "        vertical-align: top;\n",
       "    }\n",
       "\n",
       "    .dataframe thead th {\n",
       "        text-align: right;\n",
       "    }\n",
       "</style>\n",
       "<table border=\"1\" class=\"dataframe\">\n",
       "  <thead>\n",
       "    <tr style=\"text-align: right;\">\n",
       "      <th></th>\n",
       "      <th>Variable1</th>\n",
       "      <th>Variable2</th>\n",
       "      <th>Missing_Column</th>\n",
       "    </tr>\n",
       "  </thead>\n",
       "  <tbody>\n",
       "    <tr>\n",
       "      <th>0</th>\n",
       "      <td>1</td>\n",
       "      <td>1.0</td>\n",
       "      <td>A</td>\n",
       "    </tr>\n",
       "    <tr>\n",
       "      <th>1</th>\n",
       "      <td>2</td>\n",
       "      <td>2.0</td>\n",
       "      <td>B</td>\n",
       "    </tr>\n",
       "    <tr>\n",
       "      <th>2</th>\n",
       "      <td>3</td>\n",
       "      <td>NaN</td>\n",
       "      <td>A</td>\n",
       "    </tr>\n",
       "    <tr>\n",
       "      <th>3</th>\n",
       "      <td>4</td>\n",
       "      <td>4.0</td>\n",
       "      <td>C</td>\n",
       "    </tr>\n",
       "    <tr>\n",
       "      <th>4</th>\n",
       "      <td>5</td>\n",
       "      <td>NaN</td>\n",
       "      <td>NaN</td>\n",
       "    </tr>\n",
       "  </tbody>\n",
       "</table>\n",
       "</div>"
      ],
      "text/plain": [
       "   Variable1  Variable2 Missing_Column\n",
       "0          1        1.0              A\n",
       "1          2        2.0              B\n",
       "2          3        NaN              A\n",
       "3          4        4.0              C\n",
       "4          5        NaN            NaN"
      ]
     },
     "execution_count": 31,
     "metadata": {},
     "output_type": "execute_result"
    }
   ],
   "source": [
    "import pandas as pd\n",
    "import seaborn as sns\n",
    "import numpy as np\n",
    "import matplotlib.pyplot as plt\n",
    "\n",
    "# Genera dati di esempio\n",
    "data = {\n",
    "    'Variable1': [1, 2, 3, 4, 5],\n",
    "    'Variable2': [1, 2, np.nan, 4, np.nan],\n",
    "    'Missing_Column': ['A', 'B', 'A', 'C', np.nan]\n",
    "}\n",
    "# Crea un DataFrame\n",
    "df = pd.DataFrame(data)\n",
    "df1=pd.DataFrame()\n",
    "df"
   ]
  },
  {
   "cell_type": "code",
   "execution_count": 7,
   "id": "e983caf0",
   "metadata": {},
   "outputs": [],
   "source": [
    "#trattamento dei missing valves nelle variabili numeriche\n",
    "numeric_cols = df.select_dtypes(include=[\"number\"])\n",
    "df1[numeric_cols.columns] = df[numeric_cols.columns].fillna(df[numeric_cols.columns].mean())"
   ]
  },
  {
   "cell_type": "code",
   "execution_count": 1,
   "id": "09e8ebb1",
   "metadata": {},
   "outputs": [
    {
     "name": "stdout",
     "output_type": "stream",
     "text": [
      ".\n"
     ]
    }
   ],
   "source": [
    "categorical_cols = df.select_dtypes(exclude=[\"number\"])\n",
    "df1[categorical_cols.columns]= df[categorical_cols.columns]fillna(df[categorical_cols.columns].mode().iloc[0])\n",
    "print(f\"il primo conn i valori mancanti \\n{df}\\ne il secondo con i missing values sostituiti \\n{df1}\")"
   ]
  },
  {
   "cell_type": "code",
   "execution_count": 5,
   "id": "a41b0323",
   "metadata": {},
   "outputs": [
    {
     "data": {
      "text/html": [
       "<div>\n",
       "<style scoped>\n",
       "    .dataframe tbody tr th:only-of-type {\n",
       "        vertical-align: middle;\n",
       "    }\n",
       "\n",
       "    .dataframe tbody tr th {\n",
       "        vertical-align: top;\n",
       "    }\n",
       "\n",
       "    .dataframe thead th {\n",
       "        text-align: right;\n",
       "    }\n",
       "</style>\n",
       "<table border=\"1\" class=\"dataframe\">\n",
       "  <thead>\n",
       "    <tr style=\"text-align: right;\">\n",
       "      <th></th>\n",
       "      <th>Feature1</th>\n",
       "      <th>Feature2</th>\n",
       "      <th>Feature3</th>\n",
       "    </tr>\n",
       "  </thead>\n",
       "  <tbody>\n",
       "    <tr>\n",
       "      <th>0</th>\n",
       "      <td>1.0</td>\n",
       "      <td>NaN</td>\n",
       "      <td>1.0</td>\n",
       "    </tr>\n",
       "    <tr>\n",
       "      <th>1</th>\n",
       "      <td>2.0</td>\n",
       "      <td>2.0</td>\n",
       "      <td>NaN</td>\n",
       "    </tr>\n",
       "    <tr>\n",
       "      <th>2</th>\n",
       "      <td>NaN</td>\n",
       "      <td>3.0</td>\n",
       "      <td>3.0</td>\n",
       "    </tr>\n",
       "    <tr>\n",
       "      <th>3</th>\n",
       "      <td>4.0</td>\n",
       "      <td>4.0</td>\n",
       "      <td>4.0</td>\n",
       "    </tr>\n",
       "    <tr>\n",
       "      <th>4</th>\n",
       "      <td>5.0</td>\n",
       "      <td>NaN</td>\n",
       "      <td>5.0</td>\n",
       "    </tr>\n",
       "  </tbody>\n",
       "</table>\n",
       "</div>"
      ],
      "text/plain": [
       "   Feature1  Feature2  Feature3\n",
       "0       1.0       NaN       1.0\n",
       "1       2.0       2.0       NaN\n",
       "2       NaN       3.0       3.0\n",
       "3       4.0       4.0       4.0\n",
       "4       5.0       NaN       5.0"
      ]
     },
     "execution_count": 5,
     "metadata": {},
     "output_type": "execute_result"
    }
   ],
   "source": [
    "import pandas as pd\n",
    "import matplotlib.pyplot as plt\n",
    "import numpy as np\n",
    "\n",
    "# Genera dati di esempio\n",
    "data = {\n",
    "    'Feature1': [1, 2, np.nan, 4, 5],\n",
    "    'Feature2': [np.nan, 2, 3, 4, np.nan],\n",
    "    'Feature3': [1, np.nan, 3, 4, 5]\n",
    "}\n",
    "# Crea un DataFrame\n",
    "df = pd.DataFrame(data)\n",
    "df"
   ]
  },
  {
   "cell_type": "code",
   "execution_count": 40,
   "id": "df6e4bad",
   "metadata": {},
   "outputs": [
    {
     "data": {
      "text/plain": [
       "5"
      ]
     },
     "execution_count": 40,
     "metadata": {},
     "output_type": "execute_result"
    }
   ],
   "source": [
    "df.isnull().sum()\n",
    "len(df)"
   ]
  },
  {
   "cell_type": "code",
   "execution_count": 39,
   "id": "e466e426",
   "metadata": {},
   "outputs": [
    {
     "data": {
      "text/plain": [
       "Feature1    20.0\n",
       "Feature2    40.0\n",
       "Feature3    20.0\n",
       "dtype: float64"
      ]
     },
     "execution_count": 39,
     "metadata": {},
     "output_type": "execute_result"
    }
   ],
   "source": [
    "missing_percent = (df.isnull().sum() / len(df)) * 100\n",
    "missing_percent"
   ]
  },
  {
   "cell_type": "code",
   "execution_count": 8,
   "id": "d1b56a48",
   "metadata": {},
   "outputs": [
    {
     "name": "stdout",
     "output_type": "stream",
     "text": [
      "il primo con i valori mancanti \n",
      "   Variable1  Variable2 Missing_Column\n",
      "0          1        1.0              A\n",
      "1          2        2.0              B\n",
      "2          3        NaN              A\n",
      "3          4        4.0              C\n",
      "4          5        NaN            NaN \n",
      "e il secondo con i missing values sostituiti \n",
      "   Variable1  Variable2 Missing_Column\n",
      "0          1   1.000000              A\n",
      "1          2   2.000000              B\n",
      "2          3   2.333333              A\n",
      "3          4   4.000000              C\n",
      "4          5   2.333333              A\n"
     ]
    }
   ],
   "source": [
    "#creo una funzione che si occupa solo dei missing values \n",
    "import pandas as pd\n",
    "import seaborn as sns\n",
    "import numpy as np\n",
    "import matplotlib.pyplot as plt\n",
    "\n",
    "# Genera dati di esempio\n",
    "data = {\n",
    "    'Variable1': [1, 2, 3, 4, 5],\n",
    "    'Variable2': [1, 2, np.nan, 4, np.nan],\n",
    "    'Missing_Column': ['A', 'B', 'A', 'C', np.nan]\n",
    "}\n",
    "\n",
    "# Crea un DataFrame\n",
    "df = pd.DataFrame(data)\n",
    "df1=pd.DataFrame()\n",
    "\n",
    "\n",
    "def missingvalues_sub(df):\n",
    "    # Trattamento dei missing values nelle variabili numeriche e categoriche\n",
    "    numeric_cols = df.select_dtypes(include=['number'])\n",
    "    categorical_cols = df.select_dtypes(exclude=['number'])\n",
    "    df1[numeric_cols.columns] = df[numeric_cols.columns].fillna(df[numeric_cols.columns].mean())    \n",
    "    df1[categorical_cols.columns] = df[categorical_cols.columns].fillna(df[categorical_cols.columns].mode().iloc[0])\n",
    "    return df1\n",
    "\n",
    "\n",
    "def main ():\n",
    "    df1=missingvalues_sub(df)\n",
    "    print(f\"il primo con i valori mancanti \\n{df} \\ne il secondo con i missing values sostituiti \\n{df1}\")\n",
    "\n",
    "\n",
    "if __name__ == \"__main__\":\n",
    "    main()"
   ]
  },
  {
   "cell_type": "code",
   "execution_count": 9,
   "id": "886cc2f0",
   "metadata": {},
   "outputs": [
    {
     "data": {
      "text/html": [
       "<div>\n",
       "<style scoped>\n",
       "    .dataframe tbody tr th:only-of-type {\n",
       "        vertical-align: middle;\n",
       "    }\n",
       "\n",
       "    .dataframe tbody tr th {\n",
       "        vertical-align: top;\n",
       "    }\n",
       "\n",
       "    .dataframe thead th {\n",
       "        text-align: right;\n",
       "    }\n",
       "</style>\n",
       "<table border=\"1\" class=\"dataframe\">\n",
       "  <thead>\n",
       "    <tr style=\"text-align: right;\">\n",
       "      <th></th>\n",
       "      <th>Variable1</th>\n",
       "      <th>Variable2</th>\n",
       "      <th>Missing_Column</th>\n",
       "    </tr>\n",
       "  </thead>\n",
       "  <tbody>\n",
       "    <tr>\n",
       "      <th>0</th>\n",
       "      <td>False</td>\n",
       "      <td>False</td>\n",
       "      <td>False</td>\n",
       "    </tr>\n",
       "    <tr>\n",
       "      <th>1</th>\n",
       "      <td>False</td>\n",
       "      <td>False</td>\n",
       "      <td>False</td>\n",
       "    </tr>\n",
       "    <tr>\n",
       "      <th>2</th>\n",
       "      <td>False</td>\n",
       "      <td>True</td>\n",
       "      <td>False</td>\n",
       "    </tr>\n",
       "    <tr>\n",
       "      <th>3</th>\n",
       "      <td>False</td>\n",
       "      <td>False</td>\n",
       "      <td>False</td>\n",
       "    </tr>\n",
       "    <tr>\n",
       "      <th>4</th>\n",
       "      <td>False</td>\n",
       "      <td>True</td>\n",
       "      <td>True</td>\n",
       "    </tr>\n",
       "  </tbody>\n",
       "</table>\n",
       "</div>"
      ],
      "text/plain": [
       "   Variable1  Variable2  Missing_Column\n",
       "0      False      False           False\n",
       "1      False      False           False\n",
       "2      False       True           False\n",
       "3      False      False           False\n",
       "4      False       True            True"
      ]
     },
     "execution_count": 9,
     "metadata": {},
     "output_type": "execute_result"
    }
   ],
   "source": [
    "df.isnull()"
   ]
  },
  {
   "cell_type": "code",
   "execution_count": 10,
   "id": "02dcd251",
   "metadata": {},
   "outputs": [
    {
     "data": {
      "text/html": [
       "<div>\n",
       "<style scoped>\n",
       "    .dataframe tbody tr th:only-of-type {\n",
       "        vertical-align: middle;\n",
       "    }\n",
       "\n",
       "    .dataframe tbody tr th {\n",
       "        vertical-align: top;\n",
       "    }\n",
       "\n",
       "    .dataframe thead th {\n",
       "        text-align: right;\n",
       "    }\n",
       "</style>\n",
       "<table border=\"1\" class=\"dataframe\">\n",
       "  <thead>\n",
       "    <tr style=\"text-align: right;\">\n",
       "      <th></th>\n",
       "      <th>Feature1</th>\n",
       "      <th>Feature2</th>\n",
       "      <th>Feature3</th>\n",
       "    </tr>\n",
       "  </thead>\n",
       "  <tbody>\n",
       "    <tr>\n",
       "      <th>0</th>\n",
       "      <td>False</td>\n",
       "      <td>True</td>\n",
       "      <td>False</td>\n",
       "    </tr>\n",
       "    <tr>\n",
       "      <th>1</th>\n",
       "      <td>False</td>\n",
       "      <td>False</td>\n",
       "      <td>True</td>\n",
       "    </tr>\n",
       "    <tr>\n",
       "      <th>2</th>\n",
       "      <td>True</td>\n",
       "      <td>False</td>\n",
       "      <td>False</td>\n",
       "    </tr>\n",
       "    <tr>\n",
       "      <th>3</th>\n",
       "      <td>False</td>\n",
       "      <td>False</td>\n",
       "      <td>False</td>\n",
       "    </tr>\n",
       "    <tr>\n",
       "      <th>4</th>\n",
       "      <td>False</td>\n",
       "      <td>True</td>\n",
       "      <td>False</td>\n",
       "    </tr>\n",
       "  </tbody>\n",
       "</table>\n",
       "</div>"
      ],
      "text/plain": [
       "   Feature1  Feature2  Feature3\n",
       "0     False      True     False\n",
       "1     False     False      True\n",
       "2      True     False     False\n",
       "3     False     False     False\n",
       "4     False      True     False"
      ]
     },
     "execution_count": 10,
     "metadata": {},
     "output_type": "execute_result"
    }
   ],
   "source": [
    "pi\n",
    "\n",
    "# Genera dati di esempio\n",
    "data = {\n",
    "    'Feature1': [1, 2, np.nan, 4, 5],\n",
    "    'Feature2': [np.nan, 2, 3, 4, np.nan],\n",
    "    'Feature3': [1, np.nan, 3, 4, 5]\n",
    "}\n",
    "\n",
    "# Crea un DataFrame\n",
    "df = pd.DataFrame(data)\n",
    "\n",
    "#Calcola la matrice di missing values\n",
    "missing_matrix = df.isnull()\n",
    "missing_matrix\n",
    "\n"
   ]
  },
  {
   "cell_type": "markdown",
   "id": "ef9836aa",
   "metadata": {},
   "source": [
    "# Heatmap"
   ]
  },
  {
   "cell_type": "code",
   "execution_count": 11,
   "id": "e93b7624",
   "metadata": {
    "scrolled": true
   },
   "outputs": [
    {
     "data": {
      "image/png": "[encoded data removed]",
      "text/plain": [
       "<Figure size 800x600 with 1 Axes>"
      ]
     },
     "metadata": {},
     "output_type": "display_data"
    }
   ],
   "source": [
    "#Crea un heatmap colorata\n",
    "plt.figure(figsize=(8, 6))\n",
    "sns.heatmap(missing_matrix, cmap=\"viridis\", cbar=False, alpha=0.8)\n",
    "plt.title(\"Matrice di missing values\")\n",
    "plt.show()"
   ]
  },
  {
   "cell_type": "code",
   "execution_count": 12,
   "id": "2f038d27",
   "metadata": {},
   "outputs": [
    {
     "name": "stdout",
     "output_type": "stream",
     "text": [
      "Requirement already satisfied: plotly in c:\\users\\utente\\anaconda3\\lib\\site-packages (5.9.0)\n",
      "Requirement already satisfied: tenacity>=6.2.0 in c:\\users\\utente\\anaconda3\\lib\\site-packages (from plotly) (8.2.2)\n",
      "Note: you may need to restart the kernel to use updated packages.\n"
     ]
    }
   ],
   "source": [
    "pip install plotly"
   ]
  },
  {
   "cell_type": "code",
   "execution_count": 28,
   "id": "942fe468",
   "metadata": {},
   "outputs": [
    {
     "name": "stdout",
     "output_type": "stream",
     "text": [
      "   Età   Genere  Punteggio       Reddito\n",
      "0   56  Maschio  85.120691  52915.764524\n",
      "1   69  Maschio  49.514653  44702.505608\n",
      "2   46  Maschio  48.058658  55077.257652\n",
      "3   32  Femmina  59.240778  45568.978848\n",
      "4   60  Maschio  82.468097  52526.914644\n"
     ]
    },
    {
     "data": {
      "text/html": [
       "<div>\n",
       "<style scoped>\n",
       "    .dataframe tbody tr th:only-of-type {\n",
       "        vertical-align: middle;\n",
       "    }\n",
       "\n",
       "    .dataframe tbody tr th {\n",
       "        vertical-align: top;\n",
       "    }\n",
       "\n",
       "    .dataframe thead th {\n",
       "        text-align: right;\n",
       "    }\n",
       "</style>\n",
       "<table border=\"1\" class=\"dataframe\">\n",
       "  <thead>\n",
       "    <tr style=\"text-align: right;\">\n",
       "      <th></th>\n",
       "      <th>Età</th>\n",
       "      <th>Genere</th>\n",
       "      <th>Punteggio</th>\n",
       "      <th>Reddito</th>\n",
       "    </tr>\n",
       "  </thead>\n",
       "  <tbody>\n",
       "    <tr>\n",
       "      <th>0</th>\n",
       "      <td>False</td>\n",
       "      <td>False</td>\n",
       "      <td>False</td>\n",
       "      <td>False</td>\n",
       "    </tr>\n",
       "    <tr>\n",
       "      <th>1</th>\n",
       "      <td>False</td>\n",
       "      <td>False</td>\n",
       "      <td>False</td>\n",
       "      <td>False</td>\n",
       "    </tr>\n",
       "    <tr>\n",
       "      <th>2</th>\n",
       "      <td>False</td>\n",
       "      <td>False</td>\n",
       "      <td>False</td>\n",
       "      <td>False</td>\n",
       "    </tr>\n",
       "    <tr>\n",
       "      <th>3</th>\n",
       "      <td>False</td>\n",
       "      <td>False</td>\n",
       "      <td>False</td>\n",
       "      <td>False</td>\n",
       "    </tr>\n",
       "    <tr>\n",
       "      <th>4</th>\n",
       "      <td>False</td>\n",
       "      <td>False</td>\n",
       "      <td>False</td>\n",
       "      <td>False</td>\n",
       "    </tr>\n",
       "    <tr>\n",
       "      <th>...</th>\n",
       "      <td>...</td>\n",
       "      <td>...</td>\n",
       "      <td>...</td>\n",
       "      <td>...</td>\n",
       "    </tr>\n",
       "    <tr>\n",
       "      <th>995</th>\n",
       "      <td>False</td>\n",
       "      <td>False</td>\n",
       "      <td>False</td>\n",
       "      <td>False</td>\n",
       "    </tr>\n",
       "    <tr>\n",
       "      <th>996</th>\n",
       "      <td>False</td>\n",
       "      <td>False</td>\n",
       "      <td>False</td>\n",
       "      <td>False</td>\n",
       "    </tr>\n",
       "    <tr>\n",
       "      <th>997</th>\n",
       "      <td>False</td>\n",
       "      <td>False</td>\n",
       "      <td>False</td>\n",
       "      <td>False</td>\n",
       "    </tr>\n",
       "    <tr>\n",
       "      <th>998</th>\n",
       "      <td>False</td>\n",
       "      <td>False</td>\n",
       "      <td>False</td>\n",
       "      <td>False</td>\n",
       "    </tr>\n",
       "    <tr>\n",
       "      <th>999</th>\n",
       "      <td>False</td>\n",
       "      <td>False</td>\n",
       "      <td>False</td>\n",
       "      <td>False</td>\n",
       "    </tr>\n",
       "  </tbody>\n",
       "</table>\n",
       "<p>1000 rows × 4 columns</p>\n",
       "</div>"
      ],
      "text/plain": [
       "       Età  Genere  Punteggio  Reddito\n",
       "0    False   False      False    False\n",
       "1    False   False      False    False\n",
       "2    False   False      False    False\n",
       "3    False   False      False    False\n",
       "4    False   False      False    False\n",
       "..     ...     ...        ...      ...\n",
       "995  False   False      False    False\n",
       "996  False   False      False    False\n",
       "997  False   False      False    False\n",
       "998  False   False      False    False\n",
       "999  False   False      False    False\n",
       "\n",
       "[1000 rows x 4 columns]"
      ]
     },
     "execution_count": 28,
     "metadata": {},
     "output_type": "execute_result"
    }
   ],
   "source": [
    "import pandas as pd\n",
    "import numpy as np\n",
    "import matplotlib.pyplot as plt\n",
    "import seaborn as sns\n",
    "import plotly.express as px\n",
    "\n",
    "# Genera dati casuali per l'esplorazione\n",
    "np.random.seed(42)\n",
    "data = {\n",
    "    'Età': np.random.randint(18, 70, size=1000),\n",
    "    'Genere': np.random.choice(['Maschio', 'Femmina'], size=1000),\n",
    "    'Punteggio': np.random.uniform(0, 100, size=1000),\n",
    "    'Reddito': np.random.normal(50000, 15000, size=1000)\n",
    "}\n",
    "df = pd.DataFrame(data)\n",
    "\n",
    "#Visualizza le prime righe del dataset\n",
    "print(df.head())\n",
    "missing_matrix = df.isnull()\n",
    "missing_matrix"
   ]
  },
  {
   "cell_type": "code",
   "execution_count": 22,
   "id": "15e59144",
   "metadata": {},
   "outputs": [
    {
     "name": "stdout",
     "output_type": "stream",
     "text": [
      "<class 'pandas.core.frame.DataFrame'>\n",
      "RangeIndex: 1000 entries, 0 to 999\n",
      "Data columns (total 4 columns):\n",
      " #   Column     Non-Null Count  Dtype  \n",
      "---  ------     --------------  -----  \n",
      " 0   Età        1000 non-null   int32  \n",
      " 1   Genere     1000 non-null   object \n",
      " 2   Punteggio  1000 non-null   float64\n",
      " 3   Reddito    1000 non-null   float64\n",
      "dtypes: float64(2), int32(1), object(1)\n",
      "memory usage: 27.5+ KB\n",
      "None\n"
     ]
    }
   ],
   "source": [
    "#informazioni sul dataset\n",
    "print(df.info())"
   ]
  },
  {
   "cell_type": "markdown",
   "id": "0ac45a74",
   "metadata": {},
   "source": [
    "missing_data= df.isnull().sum()\n",
    "print(\"valori mancanti per ciasciuna colonna:\")\n",
    "print(missing_data)"
   ]
  },
  {
   "cell_type": "code",
   "execution_count": 31,
   "id": "f394b1da",
   "metadata": {},
   "outputs": [
    {
     "data": {
      "image/png": "[encoded data removed]",
      "text/plain": [
       "<Figure size 800x600 with 1 Axes>"
      ]
     },
     "metadata": {},
     "output_type": "display_data"
    }
   ],
   "source": [
    "#Crea un heatmap colorata\n",
    "plt.figure(figsize=(8, 6))\n",
    "sns.heatmap(missing_matrix, cmap=\"viridis\", cbar=False, alpha=0.8)\n",
    "plt.title(\"Matrice di missing values\")\n",
    "plt.show()"
   ]
  },
  {
   "cell_type": "code",
   "execution_count": 34,
   "id": "36975d0f",
   "metadata": {},
   "outputs": [
    {
     "name": "stdout",
     "output_type": "stream",
     "text": [
      "    CatCol1 CatCol2   NumCol1    NumCol2   NumCol3\n",
      "0         A       X -1.442281  50.728571  0.154194\n",
      "1         A       Y  1.212341   4.000000  0.067115\n",
      "2         C       Y  1.574474  18.000000  0.476050\n",
      "3         B       X  0.402019  23.000000  0.526320\n",
      "4         B       Y  0.897322  65.000000  0.063328\n",
      "..      ...     ...       ...        ...       ...\n",
      "495       C       X -2.404308  10.000000  0.621247\n",
      "496       B       X  0.645468  53.956522  0.472152\n",
      "497       B       Y -0.544530   9.000000  0.654346\n",
      "498       C       X  0.427885  15.000000  0.521295\n",
      "499       C       X  0.028052   8.000000  0.175591\n",
      "\n",
      "[499 rows x 5 columns]\n"
     ]
    }
   ],
   "source": [
    "import pandas as pd\n",
    "import numpy as np\n",
    "\n",
    "# Impostare il seed per rendere i risultati riproducibili\n",
    "np.random.seed(41)\n",
    "\n",
    "# Creare un dataframe vuoto\n",
    "df = pd.DataFrame()\n",
    "\n",
    "# Generare dati casuali\n",
    "n_rows = 500\n",
    "df['CatCol1'] = np.random.choice(['A', 'B', 'C'], size=n_rows)\n",
    "df['CatCol2'] = np.random.choice(['X', 'Y'], size=n_rows)\n",
    "df['NumCol1'] = np.random.randn(n_rows)\n",
    "df['NumCol2'] = np.random.randint(1, 100, size=n_rows)\n",
    "df['NumCol3'] = np.random.uniform(0, 1, size=n_rows)\n",
    "\n",
    "# Calcolare il numero totale di missing values desiderati\n",
    "total_missing_values = int(0.05 * n_rows * len(df.columns))\n",
    "\n",
    "# Introdurre missing values casuali\n",
    "for column in df.columns:\n",
    "    num_missing_values = np.random.randint(0, total_missing_values + 1)\n",
    "    missing_indices = np.random.choice(n_rows, size=num_missing_values, replace=False)\n",
    "    df.loc[missing_indices, column] = np.nan\n",
    "\n",
    "# Elimina le righe in cui entrambe le features categoriche hanno valori NaN\n",
    "df = df.dropna(subset=[\"CatCol1\", 'CatCol2'], how='all')\n",
    "\n",
    "\n",
    "numeric_cols = df.select_dtypes(include=['number'])\n",
    "categorical_cols = df.select_dtypes(exclude=['number'])\n",
    "\n",
    "# Sostituisci i missing values nelle colonne categoriche con la moda utilizzando .loc\n",
    "df.loc[:, categorical_cols.columns] = df[categorical_cols.columns].fillna(df[categorical_cols.columns].mode().iloc[0])\n",
    "\n",
    "# Calcola la media condizionata solo per le colonne numeriche con dati mancanti\n",
    "conditional_means = df[numeric_cols.columns].fillna(df.groupby('CatCol1')[numeric_cols.columns].transform('mean'))\n",
    "\n",
    "# Aggiorna le colonne numeriche con la media condizionata utilizzando .loc\n",
    "df.loc[:, numeric_cols.columns] = conditional_means\n",
    "\n",
    "# Stampa il DataFrame risultante\n",
    "print(df)"
   ]
  },
  {
   "cell_type": "code",
   "execution_count": 8,
   "id": "c7a85ab8",
   "metadata": {},
   "outputs": [
    {
     "data": {
      "text/html": [
       "<div>\n",
       "<style scoped>\n",
       "    .dataframe tbody tr th:only-of-type {\n",
       "        vertical-align: middle;\n",
       "    }\n",
       "\n",
       "    .dataframe tbody tr th {\n",
       "        vertical-align: top;\n",
       "    }\n",
       "\n",
       "    .dataframe thead th {\n",
       "        text-align: right;\n",
       "    }\n",
       "</style>\n",
       "<table border=\"1\" class=\"dataframe\">\n",
       "  <thead>\n",
       "    <tr style=\"text-align: right;\">\n",
       "      <th></th>\n",
       "      <th>CatCol1</th>\n",
       "      <th>CatCol2</th>\n",
       "      <th>NumCol1</th>\n",
       "      <th>NumCol2</th>\n",
       "      <th>NumCol3</th>\n",
       "    </tr>\n",
       "  </thead>\n",
       "  <tbody>\n",
       "    <tr>\n",
       "      <th>0</th>\n",
       "      <td>A</td>\n",
       "      <td>Y</td>\n",
       "      <td>-0.391604</td>\n",
       "      <td>98.0</td>\n",
       "      <td>0.409815</td>\n",
       "    </tr>\n",
       "    <tr>\n",
       "      <th>1</th>\n",
       "      <td>A</td>\n",
       "      <td>X</td>\n",
       "      <td>0.000551</td>\n",
       "      <td>19.0</td>\n",
       "      <td>0.886592</td>\n",
       "    </tr>\n",
       "    <tr>\n",
       "      <th>2</th>\n",
       "      <td>C</td>\n",
       "      <td>Y</td>\n",
       "      <td>1.266001</td>\n",
       "      <td>52.0</td>\n",
       "      <td>0.848556</td>\n",
       "    </tr>\n",
       "    <tr>\n",
       "      <th>3</th>\n",
       "      <td>A</td>\n",
       "      <td>X</td>\n",
       "      <td>0.449617</td>\n",
       "      <td>70.0</td>\n",
       "      <td>0.546525</td>\n",
       "    </tr>\n",
       "    <tr>\n",
       "      <th>4</th>\n",
       "      <td>B</td>\n",
       "      <td>X</td>\n",
       "      <td>0.742505</td>\n",
       "      <td>72.0</td>\n",
       "      <td>0.467257</td>\n",
       "    </tr>\n",
       "    <tr>\n",
       "      <th>...</th>\n",
       "      <td>...</td>\n",
       "      <td>...</td>\n",
       "      <td>...</td>\n",
       "      <td>...</td>\n",
       "      <td>...</td>\n",
       "    </tr>\n",
       "    <tr>\n",
       "      <th>9999995</th>\n",
       "      <td>A</td>\n",
       "      <td>Y</td>\n",
       "      <td>0.464663</td>\n",
       "      <td>7.0</td>\n",
       "      <td>0.992815</td>\n",
       "    </tr>\n",
       "    <tr>\n",
       "      <th>9999996</th>\n",
       "      <td>A</td>\n",
       "      <td>X</td>\n",
       "      <td>0.149775</td>\n",
       "      <td>13.0</td>\n",
       "      <td>0.731368</td>\n",
       "    </tr>\n",
       "    <tr>\n",
       "      <th>9999997</th>\n",
       "      <td>C</td>\n",
       "      <td>Y</td>\n",
       "      <td>-0.608376</td>\n",
       "      <td>1.0</td>\n",
       "      <td>0.606349</td>\n",
       "    </tr>\n",
       "    <tr>\n",
       "      <th>9999998</th>\n",
       "      <td>C</td>\n",
       "      <td>Y</td>\n",
       "      <td>0.000101</td>\n",
       "      <td>69.0</td>\n",
       "      <td>0.115812</td>\n",
       "    </tr>\n",
       "    <tr>\n",
       "      <th>9999999</th>\n",
       "      <td>B</td>\n",
       "      <td>Y</td>\n",
       "      <td>1.666715</td>\n",
       "      <td>76.0</td>\n",
       "      <td>0.245699</td>\n",
       "    </tr>\n",
       "  </tbody>\n",
       "</table>\n",
       "<p>9635330 rows × 5 columns</p>\n",
       "</div>"
      ],
      "text/plain": [
       "        CatCol1 CatCol2   NumCol1  NumCol2   NumCol3\n",
       "0             A       Y -0.391604     98.0  0.409815\n",
       "1             A       X  0.000551     19.0  0.886592\n",
       "2             C       Y  1.266001     52.0  0.848556\n",
       "3             A       X  0.449617     70.0  0.546525\n",
       "4             B       X  0.742505     72.0  0.467257\n",
       "...         ...     ...       ...      ...       ...\n",
       "9999995       A       Y  0.464663      7.0  0.992815\n",
       "9999996       A       X  0.149775     13.0  0.731368\n",
       "9999997       C       Y -0.608376      1.0  0.606349\n",
       "9999998       C       Y  0.000101     69.0  0.115812\n",
       "9999999       B       Y  1.666715     76.0  0.245699\n",
       "\n",
       "[9635330 rows x 5 columns]"
      ]
     },
     "execution_count": 8,
     "metadata": {},
     "output_type": "execute_result"
    }
   ],
   "source": [
    "df = df.dropna(subset=[\"CatCol1\", 'CatCol2'], how='all')\n",
    "df"
   ]
  },
  {
   "cell_type": "code",
   "execution_count": 10,
   "id": "0e1bbdf7",
   "metadata": {},
   "outputs": [
    {
     "data": {
      "text/html": [
       "<div>\n",
       "<style scoped>\n",
       "    .dataframe tbody tr th:only-of-type {\n",
       "        vertical-align: middle;\n",
       "    }\n",
       "\n",
       "    .dataframe tbody tr th {\n",
       "        vertical-align: top;\n",
       "    }\n",
       "\n",
       "    .dataframe thead th {\n",
       "        text-align: right;\n",
       "    }\n",
       "</style>\n",
       "<table border=\"1\" class=\"dataframe\">\n",
       "  <thead>\n",
       "    <tr style=\"text-align: right;\">\n",
       "      <th></th>\n",
       "      <th>CatCol1</th>\n",
       "      <th>CatCol2</th>\n",
       "      <th>NumCol1</th>\n",
       "      <th>NumCol2</th>\n",
       "      <th>NumCol3</th>\n",
       "    </tr>\n",
       "  </thead>\n",
       "  <tbody>\n",
       "    <tr>\n",
       "      <th>0</th>\n",
       "      <td>A</td>\n",
       "      <td>Y</td>\n",
       "      <td>-0.391604</td>\n",
       "      <td>98.0</td>\n",
       "      <td>0.409815</td>\n",
       "    </tr>\n",
       "    <tr>\n",
       "      <th>1</th>\n",
       "      <td>A</td>\n",
       "      <td>X</td>\n",
       "      <td>0.000551</td>\n",
       "      <td>19.0</td>\n",
       "      <td>0.886592</td>\n",
       "    </tr>\n",
       "    <tr>\n",
       "      <th>2</th>\n",
       "      <td>C</td>\n",
       "      <td>Y</td>\n",
       "      <td>1.266001</td>\n",
       "      <td>52.0</td>\n",
       "      <td>0.848556</td>\n",
       "    </tr>\n",
       "    <tr>\n",
       "      <th>3</th>\n",
       "      <td>A</td>\n",
       "      <td>X</td>\n",
       "      <td>0.449617</td>\n",
       "      <td>70.0</td>\n",
       "      <td>0.546525</td>\n",
       "    </tr>\n",
       "    <tr>\n",
       "      <th>4</th>\n",
       "      <td>B</td>\n",
       "      <td>X</td>\n",
       "      <td>0.742505</td>\n",
       "      <td>72.0</td>\n",
       "      <td>0.467257</td>\n",
       "    </tr>\n",
       "    <tr>\n",
       "      <th>...</th>\n",
       "      <td>...</td>\n",
       "      <td>...</td>\n",
       "      <td>...</td>\n",
       "      <td>...</td>\n",
       "      <td>...</td>\n",
       "    </tr>\n",
       "    <tr>\n",
       "      <th>9999995</th>\n",
       "      <td>A</td>\n",
       "      <td>Y</td>\n",
       "      <td>0.464663</td>\n",
       "      <td>7.0</td>\n",
       "      <td>0.992815</td>\n",
       "    </tr>\n",
       "    <tr>\n",
       "      <th>9999996</th>\n",
       "      <td>A</td>\n",
       "      <td>X</td>\n",
       "      <td>0.149775</td>\n",
       "      <td>13.0</td>\n",
       "      <td>0.731368</td>\n",
       "    </tr>\n",
       "    <tr>\n",
       "      <th>9999997</th>\n",
       "      <td>C</td>\n",
       "      <td>Y</td>\n",
       "      <td>-0.608376</td>\n",
       "      <td>1.0</td>\n",
       "      <td>0.606349</td>\n",
       "    </tr>\n",
       "    <tr>\n",
       "      <th>9999998</th>\n",
       "      <td>C</td>\n",
       "      <td>Y</td>\n",
       "      <td>0.000101</td>\n",
       "      <td>69.0</td>\n",
       "      <td>0.115812</td>\n",
       "    </tr>\n",
       "    <tr>\n",
       "      <th>9999999</th>\n",
       "      <td>B</td>\n",
       "      <td>Y</td>\n",
       "      <td>1.666715</td>\n",
       "      <td>76.0</td>\n",
       "      <td>0.245699</td>\n",
       "    </tr>\n",
       "  </tbody>\n",
       "</table>\n",
       "<p>9635330 rows × 5 columns</p>\n",
       "</div>"
      ],
      "text/plain": [
       "        CatCol1 CatCol2   NumCol1  NumCol2   NumCol3\n",
       "0             A       Y -0.391604     98.0  0.409815\n",
       "1             A       X  0.000551     19.0  0.886592\n",
       "2             C       Y  1.266001     52.0  0.848556\n",
       "3             A       X  0.449617     70.0  0.546525\n",
       "4             B       X  0.742505     72.0  0.467257\n",
       "...         ...     ...       ...      ...       ...\n",
       "9999995       A       Y  0.464663      7.0  0.992815\n",
       "9999996       A       X  0.149775     13.0  0.731368\n",
       "9999997       C       Y -0.608376      1.0  0.606349\n",
       "9999998       C       Y  0.000101     69.0  0.115812\n",
       "9999999       B       Y  1.666715     76.0  0.245699\n",
       "\n",
       "[9635330 rows x 5 columns]"
      ]
     },
     "execution_count": 10,
     "metadata": {},
     "output_type": "execute_result"
    }
   ],
   "source": [
    "df = df.dropna(subset=[\"CatCol1\", 'CatCol2'], how='all')\n",
    "df"
   ]
  },
  {
   "cell_type": "code",
   "execution_count": 11,
   "id": "d7ae5b1f",
   "metadata": {},
   "outputs": [
    {
     "name": "stdout",
     "output_type": "stream",
     "text": [
      "        CatCol1 CatCol2   NumCol1  NumCol2   NumCol3\n",
      "0             A       Y -0.391604     98.0  0.409815\n",
      "1             A       X  0.000551     19.0  0.886592\n",
      "2             C       Y  1.266001     52.0  0.848556\n",
      "3             A       X  0.449617     70.0  0.546525\n",
      "4             B       X  0.742505     72.0  0.467257\n",
      "...         ...     ...       ...      ...       ...\n",
      "9999995       A       Y  0.464663      7.0  0.992815\n",
      "9999996       A       X  0.149775     13.0  0.731368\n",
      "9999997       C       Y -0.608376      1.0  0.606349\n",
      "9999998       C       Y  0.000101     69.0  0.115812\n",
      "9999999       B       Y  1.666715     76.0  0.245699\n",
      "\n",
      "[9635330 rows x 5 columns]\n"
     ]
    }
   ],
   "source": [
    "numeric_cols = df.select_dtypes(include=['number'])\n",
    "categorical_cols = df.select_dtypes(exclude=['number'])\n",
    "\n",
    "# Sostituisci i missing values nelle colonne categoriche con la moda utilizzando .loc\n",
    "df.loc[:, categorical_cols.columns] = df[categorical_cols.columns].fillna(df[categorical_cols.columns].mode().iloc[0])\n",
    "\n",
    "# Calcola la media condizionata solo per le colonne numeriche con dati mancanti\n",
    "conditional_means = df[numeric_cols.columns].fillna(df.groupby('CatCol1')[numeric_cols.columns].transform('mean'))\n",
    "\n",
    "# Aggiorna le colonne numeriche con la media condizionata utilizzando .loc\n",
    "df.loc[:, numeric_cols.columns] = conditional_means\n",
    "\n",
    "# Stampa il DataFrame risultante\n",
    "print(df)"
   ]
  },
  {
   "cell_type": "markdown",
   "id": "58ebf11b",
   "metadata": {},
   "source": [
    "# Codice con sklearn"
   ]
  },
  {
   "cell_type": "code",
   "execution_count": 35,
   "id": "cc89181d",
   "metadata": {},
   "outputs": [
    {
     "name": "stdout",
     "output_type": "stream",
     "text": [
      "Dimensioni del Training Set (altezze e pesi): (70,) (70,)\n",
      "Dimensioni del Test Set (altezze e pesi): (30,) (30,)\n"
     ]
    }
   ],
   "source": [
    "import numpy as np\n",
    "from sklearn.model_selection import train_test_split\n",
    "\n",
    "# Creare dati casuali per altezze (variabile indipendente) e pesi (variabile dipendente)\n",
    "np.random.seed(0)\n",
    "altezze = np.random.normal(160, 10, 100)\n",
    "pesi = 0.5 * altezze + np.random.normal(0, 5, 100)\n",
    "\n",
    "# Suddividere il dataset in training set (70%) e test set (30%)\n",
    "X_train, X_test, y_train, y_test = train_test_split(altezze, pesi, test_size=0.3, random_state=42)\n",
    "\n",
    "# Stampare le dimensioni dei training set e test set\n",
    "print(\"Dimensioni del Training Set (altezze e pesi):\", X_train.shape, y_train.shape)\n",
    "print(\"Dimensioni del Test Set (altezze e pesi):\", X_test.shape, y_test.shape)"
   ]
  },
  {
   "cell_type": "markdown",
   "id": "2396fb89",
   "metadata": {},
   "source": [
    "## Grafico a dispersione con sklearn con la realzione tra visite al sito e importo delle vendite"
   ]
  },
  {
   "cell_type": "code",
   "execution_count": 9,
   "id": "4c4ae93a",
   "metadata": {},
   "outputs": [
    {
     "data": {
      "image/png": "[encoded data removed]",
      "text/plain": [
       "<Figure size 1000x600 with 1 Axes>"
      ]
     },
     "metadata": {},
     "output_type": "display_data"
    },
    {
     "name": "stdout",
     "output_type": "stream",
     "text": [
      "Dimensioni del Training Set (visite al sito e importo delle vendite): (70,) (70,)\n",
      "Dimensioni del Test Set (visite al sito e importo delle vendite): (30,) (30,)\n"
     ]
    }
   ],
   "source": [
    "import numpy as np\n",
    "import matplotlib.pyplot as plt\n",
    "from sklearn.model_selection import train_test_split\n",
    "\n",
    "# Creazione di dati casuali per visite al sito web e importo delle vendite\n",
    "np.random.seed(0)\n",
    "visite_al_sito = np.random.randint(100, 1000, 100)\n",
    "importo_vendite = 50 + 0.2 * visite_al_sito + np.random.normal(0, 10, 100)\n",
    "\n",
    "# Suddivisione del dataset in training set (70%) e test set (30%)\n",
    "X_train, X_test, y_train, y_test = train_test_split(visite_al_sito, importo_vendite, test_size=0.3, random_state=42)\n",
    "\n",
    "# Creazione di un grafico a dispersione\n",
    "plt.figure(figsize=(10, 6))\n",
    "plt.scatter(X_train, y_train, label='Training Set', color='blue', alpha=0.7)\n",
    "plt.scatter(X_test, y_test, label='Test Set', color='orange', alpha=0.7)\n",
    "plt.xlabel('Numero di Visite al Sito')\n",
    "plt.ylabel('Importo delle Vendite')\n",
    "plt.title('Relazione tra Visite al Sito e Importo delle Vendite')\n",
    "plt.legend()\n",
    "plt.grid(True)\n",
    "plt.show()\n",
    "\n",
    "# Stampare le dimensioni dei training set e test set\n",
    "print(\"Dimensioni del Training Set (visite al sito e importo delle vendite):\", X_train.shape, y_train.shape)\n",
    "print(\"Dimensioni del Test Set (visite al sito e importo delle vendite):\", X_test.shape, y_test.shape)"
   ]
  },
  {
   "cell_type": "code",
   "execution_count": 6,
   "id": "dc2fb693",
   "metadata": {},
   "outputs": [
    {
     "data": {
      "image/png": "[encoded data removed]",
      "text/plain": [
       "<Figure size 1000x600 with 1 Axes>"
      ]
     },
     "metadata": {},
     "output_type": "display_data"
    },
    {
     "name": "stdout",
     "output_type": "stream",
     "text": [
      "Dimensioni del Training Set (mesi trascorsi e peso corporeo): (90,) (90,)\n",
      "Dimensioni del Test Set (mesi trascorsi e peso corporeo): (30,) (30,)\n"
     ]
    }
   ],
   "source": [
    "import numpy as np\n",
    "import matplotlib.pyplot as plt\n",
    "from sklearn.model_selection import train_test_split\n",
    "\n",
    "# Creazione di dati casuali per mesi trascorsi e peso corporeo\n",
    "np.random.seed(0)\n",
    "n=120\n",
    "mesi_trascorsi = np.arange(1, n+1)\n",
    "peso_corporeo = 70 - 0.2 * mesi_trascorsi + np.random.normal(0, 2, n)\n",
    "\n",
    "# Suddivisione del dataset in training set (75%) e test set (25%)\n",
    "X_train, X_test, y_train, y_test = train_test_split(mesi_trascorsi, peso_corporeo, test_size=0.25, random_state=42)\n",
    "\n",
    "# Creazione di un grafico a linee\n",
    "plt.figure(figsize=(10, 6))\n",
    "plt.plot(X_train, y_train, label='Training Set', marker='o', color='blue', linestyle='', markersize=8,alpha=0.7)\n",
    "plt.plot(X_test, y_test, label='Test Set', marker='s', color='orange', linestyle='', markersize=8,alpha=0.7)\n",
    "plt.xlabel('Mesi Trascorsi')\n",
    "plt.ylabel('Peso Corporeo (kg)')\n",
    "plt.title('Analisi dei Dati di Fitness')\n",
    "plt.legend()\n",
    "plt.grid(True)\n",
    "plt.show()\n",
    "\n",
    "# Stampare le dimensioni dei training set e test set\n",
    "print(\"Dimensioni del Training Set (mesi trascorsi e peso corporeo):\", X_train.shape, y_train.shape)\n",
    "print(\"Dimensioni del Test Set (mesi trascorsi e peso corporeo):\", X_test.shape, y_test.shape)"
   ]
  },
  {
   "cell_type": "code",
   "execution_count": 7,
   "id": "6354a538",
   "metadata": {},
   "outputs": [
    {
     "name": "stdout",
     "output_type": "stream",
     "text": [
      "Proporzione Classe A nel data Set completo: 0.54\n",
      "Proporzione Classe B nel data Setcompleto: 0.45999999999999996\n",
      "Proporzione Classe A nel Training Set: 0.5285714285714286\n",
      "Proporzione Classe B nel Training Set: 0.4714285714285714\n",
      "Proporzione Classe A nel Test Set: 0.5666666666666667\n",
      "Proporzione Classe B nel Test Set: 0.43333333333333335\n"
     ]
    }
   ],
   "source": [
    "from sklearn.model_selection import train_test_split\n",
    "import numpy as np\n",
    "\n",
    "np.random.seed(1)\n",
    "# Supponiamo di avere un dataset con feature X e target y\n",
    "X = np.random.rand(100, 2)  # Dati del dataset (100 campioni, 2 feature)\n",
    "y = np.random.choice(['A', 'B'], size=100)  # Etichette di classe casuali\n",
    "# Calcola le proporzioni delle classi nel dataset originale\n",
    "proporzione_classe_A = sum(y == 'A') / len(y)\n",
    "proporzione_classe_B = 1 - proporzione_classe_A\n",
    "# Eseguire uno split stratificato con una proporzione specificata\n",
    "X_train, X_test, y_train, y_test = train_test_split(X, y, test_size=0.3, random_state=42)\n",
    "# Calcola le proporzioni delle classi nel training set e nel test set\n",
    "proporzione_classe_A_train = sum(y_train == 'A') / len(y_train)\n",
    "proporzione_classe_B_train = 1 - proporzione_classe_A_train\n",
    "\n",
    "proporzione_classe_A_test = sum(y_test == 'A') / len(y_test)\n",
    "proporzione_classe_B_test = 1 - proporzione_classe_A_test\n",
    "\n",
    "# Stampa delle proporzioni\n",
    "print(\"Proporzione Classe A nel data Set completo:\", proporzione_classe_A)\n",
    "print(\"Proporzione Classe B nel data Setcompleto:\", proporzione_classe_B)\n",
    "print(\"Proporzione Classe A nel Training Set:\", proporzione_classe_A_train)\n",
    "print(\"Proporzione Classe B nel Training Set:\", proporzione_classe_B_train)\n",
    "print(\"Proporzione Classe A nel Test Set:\", proporzione_classe_A_test)\n",
    "print(\"Proporzione Classe B nel Test Set:\", proporzione_classe_B_test)"
   ]
  },
  {
   "cell_type": "code",
   "execution_count": 15,
   "id": "92c919f0",
   "metadata": {},
   "outputs": [
    {
     "data": {
      "image/png": "[encoded data removed]",
      "text/plain": [
       "<Figure size 640x480 with 1 Axes>"
      ]
     },
     "metadata": {},
     "output_type": "display_data"
    }
   ],
   "source": [
    "labels = [\"ClasseA\",\"ClasseB\"]\n",
    "\n",
    "colors = [\"gold\",\"lightcoral\"]\n",
    "\n",
    "plt.pie([proporzione_classe_A,proporzione_classe_B], labels=labels, colors=colors, autopct=\"%1.2f%%\")\n",
    "plt.title(\"proprzione delle classi nel set\")\n",
    "plt.show()"
   ]
  },
  {
   "cell_type": "code",
   "execution_count": 16,
   "id": "b14a725c",
   "metadata": {
    "scrolled": true
   },
   "outputs": [
    {
     "data": {
      "text/plain": [
       "<function matplotlib.pyplot.show(close=None, block=None)>"
      ]
     },
     "execution_count": 16,
     "metadata": {},
     "output_type": "execute_result"
    },
    {
     "data": {
      "image/png": "[encoded data removed]",
      "text/plain": [
       "<Figure size 640x480 with 1 Axes>"
      ]
     },
     "metadata": {},
     "output_type": "display_data"
    }
   ],
   "source": [
    "labels = [\"ClasseA\",\"ClasseB\"]\n",
    "\n",
    "colors = [\"gold\",\"lightcoral\"]\n",
    "\n",
    "plt.pie([proporzione_classe_A_test,proporzione_classe_B_test], labels=labels, colors=colors, autopct=\"%1.2f%%\")\n",
    "plt.title(\"proprzione delle classi nel test set\")\n",
    "plt.show"
   ]
  },
  {
   "cell_type": "code",
   "execution_count": 17,
   "id": "5d270e7e",
   "metadata": {},
   "outputs": [
    {
     "name": "stdout",
     "output_type": "stream",
     "text": [
      "media del campione casuale:  53.06\n",
      "deviazione standard del campione casuale:  28.08\n",
      "deviazione standard del dataset completo:  29.02\n"
     ]
    }
   ],
   "source": [
    "import random\n",
    "import numpy as np\n",
    "\n",
    "dataset=[]\n",
    "\n",
    "for i in range(1000):\n",
    "    dataset.append(random.randint(1,100))\n",
    "    \n",
    "\n",
    "campione_casuale = random.sample(dataset,300)\n",
    "\n",
    "media_campione = np.mean(campione_casuale)\n",
    "deviazione_standard_campione = np.std(campione_casuale)\n",
    "\n",
    "media_dataset = np.mean(dataset)\n",
    "deviazione_standard_dataset = np.std(dataset)\n",
    "\n",
    "print(f\"media del campione casuale: {media_campione: .2f}\")\n",
    "print(f\"deviazione standard del campione casuale: {deviazione_standard_campione: .2f}\")\n",
    "print(f\"deviazione standard del dataset completo: {deviazione_standard_dataset: .2f}\")\n"
   ]
  }
 ],
 "metadata": {
  "kernelspec": {
   "display_name": "Python 3 (ipykernel)",
   "language": "python",
   "name": "python3"
  },
  "language_info": {
   "codemirror_mode": {
    "name": "ipython",
    "version": 3
   },
   "file_extension": ".py",
   "mimetype": "text/x-python",
   "name": "python",
   "nbconvert_exporter": "python",
   "pygments_lexer": "ipython3",
   "version": "3.11.4"
  }
 },
 "nbformat": 4,
 "nbformat_minor": 5
}
